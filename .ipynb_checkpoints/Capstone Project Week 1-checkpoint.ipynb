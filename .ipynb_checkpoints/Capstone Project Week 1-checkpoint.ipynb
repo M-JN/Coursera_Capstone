{
 "cells": [
  {
   "cell_type": "markdown",
   "id": "39da8d08",
   "metadata": {},
   "source": [
    "# Tokyo analysis - Where to set a new business?"
   ]
  },
  {
   "cell_type": "markdown",
   "id": "5e5e3487",
   "metadata": {},
   "source": [
    "## Introduction"
   ]
  },
  {
   "cell_type": "markdown",
   "id": "2aca6491",
   "metadata": {},
   "source": [
    "### 1. Background and problem description:"
   ]
  },
  {
   "cell_type": "markdown",
   "id": "306e3a33",
   "metadata": {},
   "source": [
    "Tokyo, or officially known as Tokyo Metropolis, is the capital of Japan and the most populated perfecture in the entire country. The city holds around 13,960,236 people across 23 special wards [[1]](https://en.wikipedia.org/wiki/Tokyo). Such a high amount of people aggregated in one city causes its density to reach around 6,363 people per square kilometer [[2]](https://www.metro.tokyo.lg.jp/tosei/hodohappyo/press/2021/01/28/01.html).\n",
    "\n",
    "Densely populated areas tend to lead to a highly diversified market demand for food and other catering services. This can easily turn into a double edge sword. On one hand, sucessfull businesses can thrive at a faster pace and expand, however, this also means that businesses have added pressure to keep up with world trends and to cater to new customer needs in order to out-compete their massive competition.\n",
    "\n",
    "Where to start? \n",
    "* From a shop owner perspective, a place that is located in a highly dense area, with \"hopefully\" lower land costs and even more \"hopefully\" less direct competition would be a good start. \n",
    "* From an investor perspective, being able to easily access and visualize this type of information could aid in the decision making process.\n",
    "\n",
    "This project aims at providing a solution that relies heavily on the \"easy visualization\" data staple. So that both new shop owners and investors can quickly gather insight on viable new opportunities."
   ]
  },
  {
   "cell_type": "markdown",
   "id": "940ebc8b",
   "metadata": {},
   "source": [
    "### 2. Data description:"
   ]
  },
  {
   "cell_type": "markdown",
   "id": "6687a4cb",
   "metadata": {},
   "source": [
    "**Data Plan:**\n",
    "1) Initially, a potential ward of interest will be shortlisted based on population density and land price factors;\n",
    "\n",
    "2) From this, its respective boroughs will be analysed in terms of common venues (indirect/direct competitors and potetial synergies with other businesses);\n",
    "\n",
    "3) Lastly, the land price values for each borough will be overlapped on a world map with the common venues clustering information to further help reducing the potential areas to set up a new business.  \n",
    "\n",
    "The required information will be extracted from publicly available resources:\n",
    "* Wards Density information; [[3]](https://en.wikipedia.org/wiki/Special_wards_of_Tokyo#List_of_special_wards)\n",
    "* Tokyo Land market value list; [[4]](https://utinokati.com/en/details/land-market-value/area/Tokyo/)\n",
    "* ZIP codes within Tokyo; [[5]](https://japan-postcode.810popo.net/tokyoto/)\n",
    "* Location coordinates using Geocoder Python Package; [[6]](https://geocoder.readthedocs.io/)\n",
    "* **Foursquare location** to extract respective borough information. [[7]](https://foursquare.com/)"
   ]
  },
  {
   "cell_type": "markdown",
   "id": "154bdc82",
   "metadata": {},
   "source": [
    "## References"
   ]
  },
  {
   "cell_type": "markdown",
   "id": "9eca103a",
   "metadata": {},
   "source": [
    "[1-5] - Accessed on the 13/06/2021."
   ]
  }
 ],
 "metadata": {
  "kernelspec": {
   "display_name": "Python 3",
   "language": "python",
   "name": "python3"
  },
  "language_info": {
   "codemirror_mode": {
    "name": "ipython",
    "version": 3
   },
   "file_extension": ".py",
   "mimetype": "text/x-python",
   "name": "python",
   "nbconvert_exporter": "python",
   "pygments_lexer": "ipython3",
   "version": "3.8.8"
  }
 },
 "nbformat": 4,
 "nbformat_minor": 5
}
