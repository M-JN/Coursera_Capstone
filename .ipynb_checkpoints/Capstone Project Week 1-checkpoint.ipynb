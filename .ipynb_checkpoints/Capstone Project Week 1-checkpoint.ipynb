{
 "cells": [
  {
   "cell_type": "markdown",
   "id": "c612addb",
   "metadata": {},
   "source": [
    "# Tokyo analysis - Where to set a new business?"
   ]
  },
  {
   "cell_type": "markdown",
   "id": "6f5dbe6c",
   "metadata": {},
   "source": [
    "## Introduction"
   ]
  },
  {
   "cell_type": "markdown",
   "id": "c50f9f82",
   "metadata": {},
   "source": [
    "### 1. Background and problem description:"
   ]
  },
  {
   "cell_type": "markdown",
   "id": "8eee9669",
   "metadata": {},
   "source": [
    "Tokyo, or officially known as Tokyo Metropolis, is the capital of Japan and the most populated prefecture in the entire country. The city holds around 13,960,236 people across 23 special wards [[1]](https://en.wikipedia.org/wiki/Tokyo). Such a high amount of people aggregated in one city causes its density to reach around 6,363 people per square kilometer [[2]](https://www.metro.tokyo.lg.jp/tosei/hodohappyo/press/2021/01/28/01.html).\n",
    "\n",
    "Densely populated areas tend to lead to a highly diversified market demand for food and other catering services. This can easily turn into a double edge sword. On one hand, successful businesses can thrive at a faster pace and expand, however, this also means that businesses have added pressure to keep up with world trends and to cater to new customer needs in order to out-compete their massive competition. Furthermore, new businesses have an even harder time to enter this already established ecosystem.\n",
    "\n",
    "*Location, location, location.* **Where should one start?** \n",
    "* From a shop owner perspective, a place that is located in a highly dense area, with \"hopefully\" lower land costs and even more \"hopefully\" less direct competition would be a good start. \n",
    "* From an investor perspective, the same information could be quite insightful to understand a business potential longevity and challenges (competition wise) in the short to mid-term.\n",
    "\n",
    "This project aims at providing a solution that relies heavily on the \"easy visualization\" data staple. So that both new shop owners and investors can quickly gather insight on viable new opportunities."
   ]
  },
  {
   "cell_type": "markdown",
   "id": "e931e741",
   "metadata": {},
   "source": [
    "### 2. Data description:"
   ]
  },
  {
   "cell_type": "markdown",
   "id": "cc827c26",
   "metadata": {},
   "source": [
    "**Data Plan:**\n",
    "\n",
    "1) Initially, a potential ward of interest will be shortlisted based on population density and land price factors;\n",
    "\n",
    "2) From this, its respective boroughs will be analysed in terms of common venues (indirect/direct competitors and potential synergies with other businesses);\n",
    "\n",
    "3) Lastly, the land price values for each borough will be overlapped on a world map with the common venues clustering information to further help reduce the potential areas to set up a new business.  \n",
    "\n",
    "The required information will be extracted from publicly available resources:\n",
    "* Wards Density information; [[3]](https://en.wikipedia.org/wiki/Special_wards_of_Tokyo#List_of_special_wards)\n",
    "* Tokyo Land market value list; [[4]](https://utinokati.com/en/details/land-market-value/area/Tokyo/)\n",
    "* ZIP codes within Tokyo; [[5]](https://japan-postcode.810popo.net/tokyoto/)\n",
    "* Location coordinates using Geocoder Python Package; [[6]](https://geocoder.readthedocs.io/)\n",
    "* **Foursquare location** to extract respective borough information. [[7]](https://foursquare.com/)"
   ]
  },
  {
   "cell_type": "markdown",
   "id": "aab4eac4",
   "metadata": {},
   "source": [
    "## Methodology"
   ]
  },
  {
   "cell_type": "markdown",
   "id": "91a47c35",
   "metadata": {},
   "source": [
    "* Required libraries to run the notebook:"
   ]
  },
  {
   "cell_type": "code",
   "execution_count": 1,
   "id": "1c54d11f",
   "metadata": {},
   "outputs": [],
   "source": [
    "import requests\n",
    "import numpy as np\n",
    "import pandas as pd\n",
    "\n",
    "import plotly.express as go\n",
    "import matplotlib.pyplot as plt\n",
    "import matplotlib.cm as cm\n",
    "import matplotlib.colors as colors\n",
    "\n",
    "from sklearn.cluster import KMeans\n",
    "\n",
    "import folium\n",
    "import geocoder\n",
    "from geopy.geocoders import Nominatim\n",
    "\n",
    "from bs4 import BeautifulSoup"
   ]
  },
  {
   "cell_type": "markdown",
   "id": "b0e5d798",
   "metadata": {},
   "source": [
    "* Webscrape Tokyo's Wards data: \n",
    "    1. Name & density\n",
    "    2. Average price per land (JPY per square meters)"
   ]
  },
  {
   "cell_type": "code",
   "execution_count": 2,
   "id": "2610e90c",
   "metadata": {},
   "outputs": [],
   "source": [
    "# Ward name and density\n",
    "url = 'https://en.wikipedia.org/wiki/Special_wards_of_Tokyo#List_of_special_wards'\n",
    "response = requests.get(url)\n",
    "\n",
    "soup = BeautifulSoup(response.text, 'html.parser')\n",
    "table = soup.find('table', {'class':'wikitable sortable'})\n",
    "\n",
    "ward_info = pd.read_html(str(table))[0]\n",
    "\n",
    "ward_info.drop(ward_info.columns[[0,1,4,6,7]], axis = 1, inplace = True) # Remove extra columns from the original table"
   ]
  },
  {
   "cell_type": "code",
   "execution_count": 3,
   "id": "8e68746d",
   "metadata": {},
   "outputs": [
    {
     "data": {
      "text/html": [
       "<div>\n",
       "<style scoped>\n",
       "    .dataframe tbody tr th:only-of-type {\n",
       "        vertical-align: middle;\n",
       "    }\n",
       "\n",
       "    .dataframe tbody tr th {\n",
       "        vertical-align: top;\n",
       "    }\n",
       "\n",
       "    .dataframe thead th {\n",
       "        text-align: right;\n",
       "    }\n",
       "</style>\n",
       "<table border=\"1\" class=\"dataframe\">\n",
       "  <thead>\n",
       "    <tr style=\"text-align: right;\">\n",
       "      <th></th>\n",
       "      <th>Name</th>\n",
       "      <th>Kanji</th>\n",
       "      <th>Density(/km2)</th>\n",
       "    </tr>\n",
       "  </thead>\n",
       "  <tbody>\n",
       "    <tr>\n",
       "      <th>0</th>\n",
       "      <td>Chiyoda</td>\n",
       "      <td>千代田区</td>\n",
       "      <td>5100</td>\n",
       "    </tr>\n",
       "    <tr>\n",
       "      <th>1</th>\n",
       "      <td>Chūō</td>\n",
       "      <td>中央区</td>\n",
       "      <td>14460</td>\n",
       "    </tr>\n",
       "    <tr>\n",
       "      <th>2</th>\n",
       "      <td>Minato</td>\n",
       "      <td>港区</td>\n",
       "      <td>12180</td>\n",
       "    </tr>\n",
       "    <tr>\n",
       "      <th>3</th>\n",
       "      <td>Shinjuku</td>\n",
       "      <td>新宿区</td>\n",
       "      <td>18620</td>\n",
       "    </tr>\n",
       "    <tr>\n",
       "      <th>4</th>\n",
       "      <td>Bunkyō</td>\n",
       "      <td>文京区</td>\n",
       "      <td>19790</td>\n",
       "    </tr>\n",
       "  </tbody>\n",
       "</table>\n",
       "</div>"
      ],
      "text/plain": [
       "       Name Kanji  Density(/km2)\n",
       "0   Chiyoda  千代田区           5100\n",
       "1      Chūō   中央区          14460\n",
       "2    Minato    港区          12180\n",
       "3  Shinjuku   新宿区          18620\n",
       "4    Bunkyō   文京区          19790"
      ]
     },
     "execution_count": 3,
     "metadata": {},
     "output_type": "execute_result"
    }
   ],
   "source": [
    "ward_info.head(5)"
   ]
  },
  {
   "cell_type": "code",
   "execution_count": 4,
   "id": "a8f6c683",
   "metadata": {},
   "outputs": [],
   "source": [
    "# Ward average price per land\n",
    "url = 'https://utinokati.com/en/details/land-market-value/area/Tokyo/'\n",
    "response = requests.get(url)\n",
    "\n",
    "soup = BeautifulSoup(response.text, 'html.parser')\n",
    "table = soup.find('table', {'id':'region_overview'})\n",
    "\n",
    "ward_price = pd.read_html(str(table))[0]\n",
    "\n",
    "# Extra cleaning steps with the dataframe\n",
    "ward_price.drop(ward_price.columns[[1,3]], axis = 1, inplace = True) # Remove added columns within the dataframe\n",
    "ward_price.drop(ward_price.index[23:len(ward_price)], axis = 0, inplace = True) # Remove cities information\n",
    "ward_price['Average Unit Price'] = ward_price['Average Unit Price'].str.replace('JPY/sq.m','', regex = True)\n",
    "ward_price['Average Unit Price'] = ward_price['Average Unit Price'].str.replace(',','', regex = True)\n",
    "ward_price = ward_price.rename(columns = {'Average Unit Price': 'Average Price(JPY/sq.m)'})"
   ]
  },
  {
   "cell_type": "code",
   "execution_count": 5,
   "id": "3ff7aae0",
   "metadata": {},
   "outputs": [
    {
     "data": {
      "text/html": [
       "<div>\n",
       "<style scoped>\n",
       "    .dataframe tbody tr th:only-of-type {\n",
       "        vertical-align: middle;\n",
       "    }\n",
       "\n",
       "    .dataframe tbody tr th {\n",
       "        vertical-align: top;\n",
       "    }\n",
       "\n",
       "    .dataframe thead th {\n",
       "        text-align: right;\n",
       "    }\n",
       "</style>\n",
       "<table border=\"1\" class=\"dataframe\">\n",
       "  <thead>\n",
       "    <tr style=\"text-align: right;\">\n",
       "      <th></th>\n",
       "      <th>Area</th>\n",
       "      <th>Average Price(JPY/sq.m)</th>\n",
       "    </tr>\n",
       "  </thead>\n",
       "  <tbody>\n",
       "    <tr>\n",
       "      <th>0</th>\n",
       "      <td>Chiyoda-Ku</td>\n",
       "      <td>2839779</td>\n",
       "    </tr>\n",
       "    <tr>\n",
       "      <th>1</th>\n",
       "      <td>Chuo-Ku</td>\n",
       "      <td>1876597</td>\n",
       "    </tr>\n",
       "    <tr>\n",
       "      <th>2</th>\n",
       "      <td>Minato-Ku</td>\n",
       "      <td>2075876</td>\n",
       "    </tr>\n",
       "    <tr>\n",
       "      <th>3</th>\n",
       "      <td>Shinjuku-Ku</td>\n",
       "      <td>875098</td>\n",
       "    </tr>\n",
       "    <tr>\n",
       "      <th>4</th>\n",
       "      <td>Bunkyo-Ku</td>\n",
       "      <td>952715</td>\n",
       "    </tr>\n",
       "  </tbody>\n",
       "</table>\n",
       "</div>"
      ],
      "text/plain": [
       "          Area Average Price(JPY/sq.m)\n",
       "0   Chiyoda-Ku                2839779 \n",
       "1      Chuo-Ku                1876597 \n",
       "2    Minato-Ku                2075876 \n",
       "3  Shinjuku-Ku                 875098 \n",
       "4    Bunkyo-Ku                 952715 "
      ]
     },
     "execution_count": 5,
     "metadata": {},
     "output_type": "execute_result"
    }
   ],
   "source": [
    "ward_price.head(5)"
   ]
  },
  {
   "cell_type": "markdown",
   "id": "2cdd0ec4",
   "metadata": {},
   "source": [
    "* Merge both dataframes"
   ]
  },
  {
   "cell_type": "code",
   "execution_count": 6,
   "id": "93b7824e",
   "metadata": {},
   "outputs": [
    {
     "data": {
      "text/html": [
       "<div>\n",
       "<style scoped>\n",
       "    .dataframe tbody tr th:only-of-type {\n",
       "        vertical-align: middle;\n",
       "    }\n",
       "\n",
       "    .dataframe tbody tr th {\n",
       "        vertical-align: top;\n",
       "    }\n",
       "\n",
       "    .dataframe thead th {\n",
       "        text-align: right;\n",
       "    }\n",
       "</style>\n",
       "<table border=\"1\" class=\"dataframe\">\n",
       "  <thead>\n",
       "    <tr style=\"text-align: right;\">\n",
       "      <th></th>\n",
       "      <th>Name</th>\n",
       "      <th>Kanji</th>\n",
       "      <th>Density(/km2)</th>\n",
       "      <th>Average Price(JPY/sq.m)</th>\n",
       "    </tr>\n",
       "  </thead>\n",
       "  <tbody>\n",
       "    <tr>\n",
       "      <th>0</th>\n",
       "      <td>Chiyoda</td>\n",
       "      <td>千代田区</td>\n",
       "      <td>5100</td>\n",
       "      <td>2839779</td>\n",
       "    </tr>\n",
       "    <tr>\n",
       "      <th>1</th>\n",
       "      <td>Chūō</td>\n",
       "      <td>中央区</td>\n",
       "      <td>14460</td>\n",
       "      <td>1876597</td>\n",
       "    </tr>\n",
       "    <tr>\n",
       "      <th>2</th>\n",
       "      <td>Minato</td>\n",
       "      <td>港区</td>\n",
       "      <td>12180</td>\n",
       "      <td>2075876</td>\n",
       "    </tr>\n",
       "    <tr>\n",
       "      <th>3</th>\n",
       "      <td>Shinjuku</td>\n",
       "      <td>新宿区</td>\n",
       "      <td>18620</td>\n",
       "      <td>875098</td>\n",
       "    </tr>\n",
       "    <tr>\n",
       "      <th>4</th>\n",
       "      <td>Bunkyō</td>\n",
       "      <td>文京区</td>\n",
       "      <td>19790</td>\n",
       "      <td>952715</td>\n",
       "    </tr>\n",
       "  </tbody>\n",
       "</table>\n",
       "</div>"
      ],
      "text/plain": [
       "       Name Kanji  Density(/km2) Average Price(JPY/sq.m)\n",
       "0   Chiyoda  千代田区           5100                2839779 \n",
       "1      Chūō   中央区          14460                1876597 \n",
       "2    Minato    港区          12180                2075876 \n",
       "3  Shinjuku   新宿区          18620                 875098 \n",
       "4    Bunkyō   文京区          19790                 952715 "
      ]
     },
     "execution_count": 6,
     "metadata": {},
     "output_type": "execute_result"
    }
   ],
   "source": [
    "wards_df = pd.concat([ward_info, ward_price], axis = 1)\n",
    "wards_df.drop(['Area'], axis = 1, inplace = True)\n",
    "wards_df.head(5)"
   ]
  },
  {
   "cell_type": "code",
   "execution_count": 7,
   "id": "1389f889",
   "metadata": {},
   "outputs": [
    {
     "data": {
      "text/plain": [
       "Name                       object\n",
       "Kanji                      object\n",
       "Density(/km2)               int64\n",
       "Average Price(JPY/sq.m)    object\n",
       "dtype: object"
      ]
     },
     "execution_count": 7,
     "metadata": {},
     "output_type": "execute_result"
    }
   ],
   "source": [
    "wards_df.dtypes"
   ]
  },
  {
   "cell_type": "code",
   "execution_count": 8,
   "id": "43a28877",
   "metadata": {},
   "outputs": [],
   "source": [
    "# Change Average Price column to integers\n",
    "wards_df['Average Price(JPY/sq.m)'] = pd.to_numeric(wards_df['Average Price(JPY/sq.m)'])"
   ]
  },
  {
   "cell_type": "code",
   "execution_count": 14,
   "id": "ca208c91",
   "metadata": {},
   "outputs": [
    {
     "data": {
      "application/vnd.plotly.v1+json": {
       "config": {
        "plotlyServerURL": "https://plot.ly"
       },
       "data": [
        {
         "hovertemplate": "Name=Chiyoda<br>Density(/km2)=%{x}<br>Average Price(JPY/sq.m)=%{y}<extra></extra>",
         "legendgroup": "Chiyoda",
         "marker": {
          "color": "#636efa",
          "size": 15,
          "symbol": "circle"
         },
         "mode": "markers",
         "name": "Chiyoda",
         "orientation": "v",
         "showlegend": true,
         "type": "scatter",
         "x": [
          5100
         ],
         "xaxis": "x",
         "y": [
          2839779
         ],
         "yaxis": "y"
        },
        {
         "hovertemplate": "Name=Chūō<br>Density(/km2)=%{x}<br>Average Price(JPY/sq.m)=%{y}<extra></extra>",
         "legendgroup": "Chūō",
         "marker": {
          "color": "#EF553B",
          "size": 15,
          "symbol": "circle"
         },
         "mode": "markers",
         "name": "Chūō",
         "orientation": "v",
         "showlegend": true,
         "type": "scatter",
         "x": [
          14460
         ],
         "xaxis": "x",
         "y": [
          1876597
         ],
         "yaxis": "y"
        },
        {
         "hovertemplate": "Name=Minato<br>Density(/km2)=%{x}<br>Average Price(JPY/sq.m)=%{y}<extra></extra>",
         "legendgroup": "Minato",
         "marker": {
          "color": "#00cc96",
          "size": 15,
          "symbol": "circle"
         },
         "mode": "markers",
         "name": "Minato",
         "orientation": "v",
         "showlegend": true,
         "type": "scatter",
         "x": [
          12180
         ],
         "xaxis": "x",
         "y": [
          2075876
         ],
         "yaxis": "y"
        },
        {
         "hovertemplate": "Name=Shinjuku<br>Density(/km2)=%{x}<br>Average Price(JPY/sq.m)=%{y}<extra></extra>",
         "legendgroup": "Shinjuku",
         "marker": {
          "color": "#ab63fa",
          "size": 15,
          "symbol": "circle"
         },
         "mode": "markers",
         "name": "Shinjuku",
         "orientation": "v",
         "showlegend": true,
         "type": "scatter",
         "x": [
          18620
         ],
         "xaxis": "x",
         "y": [
          875098
         ],
         "yaxis": "y"
        },
        {
         "hovertemplate": "Name=Bunkyō<br>Density(/km2)=%{x}<br>Average Price(JPY/sq.m)=%{y}<extra></extra>",
         "legendgroup": "Bunkyō",
         "marker": {
          "color": "#FFA15A",
          "size": 15,
          "symbol": "circle"
         },
         "mode": "markers",
         "name": "Bunkyō",
         "orientation": "v",
         "showlegend": true,
         "type": "scatter",
         "x": [
          19790
         ],
         "xaxis": "x",
         "y": [
          952715
         ],
         "yaxis": "y"
        },
        {
         "hovertemplate": "Name=Taitō<br>Density(/km2)=%{x}<br>Average Price(JPY/sq.m)=%{y}<extra></extra>",
         "legendgroup": "Taitō",
         "marker": {
          "color": "#19d3f3",
          "size": 15,
          "symbol": "circle"
         },
         "mode": "markers",
         "name": "Taitō",
         "orientation": "v",
         "showlegend": true,
         "type": "scatter",
         "x": [
          19830
         ],
         "xaxis": "x",
         "y": [
          970843
         ],
         "yaxis": "y"
        },
        {
         "hovertemplate": "Name=Sumida<br>Density(/km2)=%{x}<br>Average Price(JPY/sq.m)=%{y}<extra></extra>",
         "legendgroup": "Sumida",
         "marker": {
          "color": "#FF6692",
          "size": 15,
          "symbol": "circle"
         },
         "mode": "markers",
         "name": "Sumida",
         "orientation": "v",
         "showlegend": true,
         "type": "scatter",
         "x": [
          18910
         ],
         "xaxis": "x",
         "y": [
          605382
         ],
         "yaxis": "y"
        },
        {
         "hovertemplate": "Name=Kōtō<br>Density(/km2)=%{x}<br>Average Price(JPY/sq.m)=%{y}<extra></extra>",
         "legendgroup": "Kōtō",
         "marker": {
          "color": "#B6E880",
          "size": 15,
          "symbol": "circle"
         },
         "mode": "markers",
         "name": "Kōtō",
         "orientation": "v",
         "showlegend": true,
         "type": "scatter",
         "x": [
          12510
         ],
         "xaxis": "x",
         "y": [
          653035
         ],
         "yaxis": "y"
        },
        {
         "hovertemplate": "Name=Shinagawa<br>Density(/km2)=%{x}<br>Average Price(JPY/sq.m)=%{y}<extra></extra>",
         "legendgroup": "Shinagawa",
         "marker": {
          "color": "#FF97FF",
          "size": 15,
          "symbol": "circle"
         },
         "mode": "markers",
         "name": "Shinagawa",
         "orientation": "v",
         "showlegend": true,
         "type": "scatter",
         "x": [
          17180
         ],
         "xaxis": "x",
         "y": [
          775938
         ],
         "yaxis": "y"
        },
        {
         "hovertemplate": "Name=Meguro<br>Density(/km2)=%{x}<br>Average Price(JPY/sq.m)=%{y}<extra></extra>",
         "legendgroup": "Meguro",
         "marker": {
          "color": "#FECB52",
          "size": 15,
          "symbol": "circle"
         },
         "mode": "markers",
         "name": "Meguro",
         "orientation": "v",
         "showlegend": true,
         "type": "scatter",
         "x": [
          19110
         ],
         "xaxis": "x",
         "y": [
          857665
         ],
         "yaxis": "y"
        },
        {
         "hovertemplate": "Name=Ōta<br>Density(/km2)=%{x}<br>Average Price(JPY/sq.m)=%{y}<extra></extra>",
         "legendgroup": "Ōta",
         "marker": {
          "color": "#636efa",
          "size": 15,
          "symbol": "circle"
         },
         "mode": "markers",
         "name": "Ōta",
         "orientation": "v",
         "showlegend": true,
         "type": "scatter",
         "x": [
          11910
         ],
         "xaxis": "x",
         "y": [
          556757
         ],
         "yaxis": "y"
        },
        {
         "hovertemplate": "Name=Setagaya<br>Density(/km2)=%{x}<br>Average Price(JPY/sq.m)=%{y}<extra></extra>",
         "legendgroup": "Setagaya",
         "marker": {
          "color": "#EF553B",
          "size": 15,
          "symbol": "circle"
         },
         "mode": "markers",
         "name": "Setagaya",
         "orientation": "v",
         "showlegend": true,
         "type": "scatter",
         "x": [
          15690
         ],
         "xaxis": "x",
         "y": [
          671528
         ],
         "yaxis": "y"
        },
        {
         "hovertemplate": "Name=Shibuya<br>Density(/km2)=%{x}<br>Average Price(JPY/sq.m)=%{y}<extra></extra>",
         "legendgroup": "Shibuya",
         "marker": {
          "color": "#00cc96",
          "size": 15,
          "symbol": "circle"
         },
         "mode": "markers",
         "name": "Shibuya",
         "orientation": "v",
         "showlegend": true,
         "type": "scatter",
         "x": [
          15080
         ],
         "xaxis": "x",
         "y": [
          1193412
         ],
         "yaxis": "y"
        },
        {
         "hovertemplate": "Name=Nakano<br>Density(/km2)=%{x}<br>Average Price(JPY/sq.m)=%{y}<extra></extra>",
         "legendgroup": "Nakano",
         "marker": {
          "color": "#ab63fa",
          "size": 15,
          "symbol": "circle"
         },
         "mode": "markers",
         "name": "Nakano",
         "orientation": "v",
         "showlegend": true,
         "type": "scatter",
         "x": [
          21350
         ],
         "xaxis": "x",
         "y": [
          584593
         ],
         "yaxis": "y"
        },
        {
         "hovertemplate": "Name=Suginami<br>Density(/km2)=%{x}<br>Average Price(JPY/sq.m)=%{y}<extra></extra>",
         "legendgroup": "Suginami",
         "marker": {
          "color": "#FFA15A",
          "size": 15,
          "symbol": "circle"
         },
         "mode": "markers",
         "name": "Suginami",
         "orientation": "v",
         "showlegend": true,
         "type": "scatter",
         "x": [
          16750
         ],
         "xaxis": "x",
         "y": [
          560405
         ],
         "yaxis": "y"
        },
        {
         "hovertemplate": "Name=Toshima<br>Density(/km2)=%{x}<br>Average Price(JPY/sq.m)=%{y}<extra></extra>",
         "legendgroup": "Toshima",
         "marker": {
          "color": "#19d3f3",
          "size": 15,
          "symbol": "circle"
         },
         "mode": "markers",
         "name": "Toshima",
         "orientation": "v",
         "showlegend": true,
         "type": "scatter",
         "x": [
          22650
         ],
         "xaxis": "x",
         "y": [
          678396
         ],
         "yaxis": "y"
        },
        {
         "hovertemplate": "Name=Kita<br>Density(/km2)=%{x}<br>Average Price(JPY/sq.m)=%{y}<extra></extra>",
         "legendgroup": "Kita",
         "marker": {
          "color": "#FF6692",
          "size": 15,
          "symbol": "circle"
         },
         "mode": "markers",
         "name": "Kita",
         "orientation": "v",
         "showlegend": true,
         "type": "scatter",
         "x": [
          16740
         ],
         "xaxis": "x",
         "y": [
          526373
         ],
         "yaxis": "y"
        },
        {
         "hovertemplate": "Name=Arakawa<br>Density(/km2)=%{x}<br>Average Price(JPY/sq.m)=%{y}<extra></extra>",
         "legendgroup": "Arakawa",
         "marker": {
          "color": "#B6E880",
          "size": 15,
          "symbol": "circle"
         },
         "mode": "markers",
         "name": "Arakawa",
         "orientation": "v",
         "showlegend": true,
         "type": "scatter",
         "x": [
          21030
         ],
         "xaxis": "x",
         "y": [
          475876
         ],
         "yaxis": "y"
        },
        {
         "hovertemplate": "Name=Itabashi<br>Density(/km2)=%{x}<br>Average Price(JPY/sq.m)=%{y}<extra></extra>",
         "legendgroup": "Itabashi",
         "marker": {
          "color": "#FF97FF",
          "size": 15,
          "symbol": "circle"
         },
         "mode": "markers",
         "name": "Itabashi",
         "orientation": "v",
         "showlegend": true,
         "type": "scatter",
         "x": [
          17670
         ],
         "xaxis": "x",
         "y": [
          432895
         ],
         "yaxis": "y"
        },
        {
         "hovertemplate": "Name=Nerima<br>Density(/km2)=%{x}<br>Average Price(JPY/sq.m)=%{y}<extra></extra>",
         "legendgroup": "Nerima",
         "marker": {
          "color": "#FECB52",
          "size": 15,
          "symbol": "circle"
         },
         "mode": "markers",
         "name": "Nerima",
         "orientation": "v",
         "showlegend": true,
         "type": "scatter",
         "x": [
          15120
         ],
         "xaxis": "x",
         "y": [
          408850
         ],
         "yaxis": "y"
        },
        {
         "hovertemplate": "Name=Adachi<br>Density(/km2)=%{x}<br>Average Price(JPY/sq.m)=%{y}<extra></extra>",
         "legendgroup": "Adachi",
         "marker": {
          "color": "#636efa",
          "size": 15,
          "symbol": "circle"
         },
         "mode": "markers",
         "name": "Adachi",
         "orientation": "v",
         "showlegend": true,
         "type": "scatter",
         "x": [
          12660
         ],
         "xaxis": "x",
         "y": [
          293587
         ],
         "yaxis": "y"
        },
        {
         "hovertemplate": "Name=Katsushika<br>Density(/km2)=%{x}<br>Average Price(JPY/sq.m)=%{y}<extra></extra>",
         "legendgroup": "Katsushika",
         "marker": {
          "color": "#EF553B",
          "size": 15,
          "symbol": "circle"
         },
         "mode": "markers",
         "name": "Katsushika",
         "orientation": "v",
         "showlegend": true,
         "type": "scatter",
         "x": [
          12850
         ],
         "xaxis": "x",
         "y": [
          308694
         ],
         "yaxis": "y"
        },
        {
         "hovertemplate": "Name=Edogawa<br>Density(/km2)=%{x}<br>Average Price(JPY/sq.m)=%{y}<extra></extra>",
         "legendgroup": "Edogawa",
         "marker": {
          "color": "#00cc96",
          "size": 15,
          "symbol": "circle"
         },
         "mode": "markers",
         "name": "Edogawa",
         "orientation": "v",
         "showlegend": true,
         "type": "scatter",
         "x": [
          13750
         ],
         "xaxis": "x",
         "y": [
          334899
         ],
         "yaxis": "y"
        },
        {
         "hovertemplate": "Name=Overall<br>Density(/km2)=%{x}<br>Average Price(JPY/sq.m)=%{y}<extra></extra>",
         "legendgroup": "Overall",
         "marker": {
          "color": "#ab63fa",
          "size": 15,
          "symbol": "circle"
         },
         "mode": "markers",
         "name": "Overall",
         "orientation": "v",
         "showlegend": true,
         "type": "scatter",
         "x": [
          15146
         ],
         "xaxis": "x",
         "y": [
          null
         ],
         "yaxis": "y"
        }
       ],
       "layout": {
        "legend": {
         "title": {
          "text": "Name"
         },
         "tracegroupgap": 0
        },
        "margin": {
         "t": 60
        },
        "template": {
         "data": {
          "bar": [
           {
            "error_x": {
             "color": "#2a3f5f"
            },
            "error_y": {
             "color": "#2a3f5f"
            },
            "marker": {
             "line": {
              "color": "#E5ECF6",
              "width": 0.5
             }
            },
            "type": "bar"
           }
          ],
          "barpolar": [
           {
            "marker": {
             "line": {
              "color": "#E5ECF6",
              "width": 0.5
             }
            },
            "type": "barpolar"
           }
          ],
          "carpet": [
           {
            "aaxis": {
             "endlinecolor": "#2a3f5f",
             "gridcolor": "white",
             "linecolor": "white",
             "minorgridcolor": "white",
             "startlinecolor": "#2a3f5f"
            },
            "baxis": {
             "endlinecolor": "#2a3f5f",
             "gridcolor": "white",
             "linecolor": "white",
             "minorgridcolor": "white",
             "startlinecolor": "#2a3f5f"
            },
            "type": "carpet"
           }
          ],
          "choropleth": [
           {
            "colorbar": {
             "outlinewidth": 0,
             "ticks": ""
            },
            "type": "choropleth"
           }
          ],
          "contour": [
           {
            "colorbar": {
             "outlinewidth": 0,
             "ticks": ""
            },
            "colorscale": [
             [
              0,
              "#0d0887"
             ],
             [
              0.1111111111111111,
              "#46039f"
             ],
             [
              0.2222222222222222,
              "#7201a8"
             ],
             [
              0.3333333333333333,
              "#9c179e"
             ],
             [
              0.4444444444444444,
              "#bd3786"
             ],
             [
              0.5555555555555556,
              "#d8576b"
             ],
             [
              0.6666666666666666,
              "#ed7953"
             ],
             [
              0.7777777777777778,
              "#fb9f3a"
             ],
             [
              0.8888888888888888,
              "#fdca26"
             ],
             [
              1,
              "#f0f921"
             ]
            ],
            "type": "contour"
           }
          ],
          "contourcarpet": [
           {
            "colorbar": {
             "outlinewidth": 0,
             "ticks": ""
            },
            "type": "contourcarpet"
           }
          ],
          "heatmap": [
           {
            "colorbar": {
             "outlinewidth": 0,
             "ticks": ""
            },
            "colorscale": [
             [
              0,
              "#0d0887"
             ],
             [
              0.1111111111111111,
              "#46039f"
             ],
             [
              0.2222222222222222,
              "#7201a8"
             ],
             [
              0.3333333333333333,
              "#9c179e"
             ],
             [
              0.4444444444444444,
              "#bd3786"
             ],
             [
              0.5555555555555556,
              "#d8576b"
             ],
             [
              0.6666666666666666,
              "#ed7953"
             ],
             [
              0.7777777777777778,
              "#fb9f3a"
             ],
             [
              0.8888888888888888,
              "#fdca26"
             ],
             [
              1,
              "#f0f921"
             ]
            ],
            "type": "heatmap"
           }
          ],
          "heatmapgl": [
           {
            "colorbar": {
             "outlinewidth": 0,
             "ticks": ""
            },
            "colorscale": [
             [
              0,
              "#0d0887"
             ],
             [
              0.1111111111111111,
              "#46039f"
             ],
             [
              0.2222222222222222,
              "#7201a8"
             ],
             [
              0.3333333333333333,
              "#9c179e"
             ],
             [
              0.4444444444444444,
              "#bd3786"
             ],
             [
              0.5555555555555556,
              "#d8576b"
             ],
             [
              0.6666666666666666,
              "#ed7953"
             ],
             [
              0.7777777777777778,
              "#fb9f3a"
             ],
             [
              0.8888888888888888,
              "#fdca26"
             ],
             [
              1,
              "#f0f921"
             ]
            ],
            "type": "heatmapgl"
           }
          ],
          "histogram": [
           {
            "marker": {
             "colorbar": {
              "outlinewidth": 0,
              "ticks": ""
             }
            },
            "type": "histogram"
           }
          ],
          "histogram2d": [
           {
            "colorbar": {
             "outlinewidth": 0,
             "ticks": ""
            },
            "colorscale": [
             [
              0,
              "#0d0887"
             ],
             [
              0.1111111111111111,
              "#46039f"
             ],
             [
              0.2222222222222222,
              "#7201a8"
             ],
             [
              0.3333333333333333,
              "#9c179e"
             ],
             [
              0.4444444444444444,
              "#bd3786"
             ],
             [
              0.5555555555555556,
              "#d8576b"
             ],
             [
              0.6666666666666666,
              "#ed7953"
             ],
             [
              0.7777777777777778,
              "#fb9f3a"
             ],
             [
              0.8888888888888888,
              "#fdca26"
             ],
             [
              1,
              "#f0f921"
             ]
            ],
            "type": "histogram2d"
           }
          ],
          "histogram2dcontour": [
           {
            "colorbar": {
             "outlinewidth": 0,
             "ticks": ""
            },
            "colorscale": [
             [
              0,
              "#0d0887"
             ],
             [
              0.1111111111111111,
              "#46039f"
             ],
             [
              0.2222222222222222,
              "#7201a8"
             ],
             [
              0.3333333333333333,
              "#9c179e"
             ],
             [
              0.4444444444444444,
              "#bd3786"
             ],
             [
              0.5555555555555556,
              "#d8576b"
             ],
             [
              0.6666666666666666,
              "#ed7953"
             ],
             [
              0.7777777777777778,
              "#fb9f3a"
             ],
             [
              0.8888888888888888,
              "#fdca26"
             ],
             [
              1,
              "#f0f921"
             ]
            ],
            "type": "histogram2dcontour"
           }
          ],
          "mesh3d": [
           {
            "colorbar": {
             "outlinewidth": 0,
             "ticks": ""
            },
            "type": "mesh3d"
           }
          ],
          "parcoords": [
           {
            "line": {
             "colorbar": {
              "outlinewidth": 0,
              "ticks": ""
             }
            },
            "type": "parcoords"
           }
          ],
          "pie": [
           {
            "automargin": true,
            "type": "pie"
           }
          ],
          "scatter": [
           {
            "marker": {
             "colorbar": {
              "outlinewidth": 0,
              "ticks": ""
             }
            },
            "type": "scatter"
           }
          ],
          "scatter3d": [
           {
            "line": {
             "colorbar": {
              "outlinewidth": 0,
              "ticks": ""
             }
            },
            "marker": {
             "colorbar": {
              "outlinewidth": 0,
              "ticks": ""
             }
            },
            "type": "scatter3d"
           }
          ],
          "scattercarpet": [
           {
            "marker": {
             "colorbar": {
              "outlinewidth": 0,
              "ticks": ""
             }
            },
            "type": "scattercarpet"
           }
          ],
          "scattergeo": [
           {
            "marker": {
             "colorbar": {
              "outlinewidth": 0,
              "ticks": ""
             }
            },
            "type": "scattergeo"
           }
          ],
          "scattergl": [
           {
            "marker": {
             "colorbar": {
              "outlinewidth": 0,
              "ticks": ""
             }
            },
            "type": "scattergl"
           }
          ],
          "scattermapbox": [
           {
            "marker": {
             "colorbar": {
              "outlinewidth": 0,
              "ticks": ""
             }
            },
            "type": "scattermapbox"
           }
          ],
          "scatterpolar": [
           {
            "marker": {
             "colorbar": {
              "outlinewidth": 0,
              "ticks": ""
             }
            },
            "type": "scatterpolar"
           }
          ],
          "scatterpolargl": [
           {
            "marker": {
             "colorbar": {
              "outlinewidth": 0,
              "ticks": ""
             }
            },
            "type": "scatterpolargl"
           }
          ],
          "scatterternary": [
           {
            "marker": {
             "colorbar": {
              "outlinewidth": 0,
              "ticks": ""
             }
            },
            "type": "scatterternary"
           }
          ],
          "surface": [
           {
            "colorbar": {
             "outlinewidth": 0,
             "ticks": ""
            },
            "colorscale": [
             [
              0,
              "#0d0887"
             ],
             [
              0.1111111111111111,
              "#46039f"
             ],
             [
              0.2222222222222222,
              "#7201a8"
             ],
             [
              0.3333333333333333,
              "#9c179e"
             ],
             [
              0.4444444444444444,
              "#bd3786"
             ],
             [
              0.5555555555555556,
              "#d8576b"
             ],
             [
              0.6666666666666666,
              "#ed7953"
             ],
             [
              0.7777777777777778,
              "#fb9f3a"
             ],
             [
              0.8888888888888888,
              "#fdca26"
             ],
             [
              1,
              "#f0f921"
             ]
            ],
            "type": "surface"
           }
          ],
          "table": [
           {
            "cells": {
             "fill": {
              "color": "#EBF0F8"
             },
             "line": {
              "color": "white"
             }
            },
            "header": {
             "fill": {
              "color": "#C8D4E3"
             },
             "line": {
              "color": "white"
             }
            },
            "type": "table"
           }
          ]
         },
         "layout": {
          "annotationdefaults": {
           "arrowcolor": "#2a3f5f",
           "arrowhead": 0,
           "arrowwidth": 1
          },
          "autotypenumbers": "strict",
          "coloraxis": {
           "colorbar": {
            "outlinewidth": 0,
            "ticks": ""
           }
          },
          "colorscale": {
           "diverging": [
            [
             0,
             "#8e0152"
            ],
            [
             0.1,
             "#c51b7d"
            ],
            [
             0.2,
             "#de77ae"
            ],
            [
             0.3,
             "#f1b6da"
            ],
            [
             0.4,
             "#fde0ef"
            ],
            [
             0.5,
             "#f7f7f7"
            ],
            [
             0.6,
             "#e6f5d0"
            ],
            [
             0.7,
             "#b8e186"
            ],
            [
             0.8,
             "#7fbc41"
            ],
            [
             0.9,
             "#4d9221"
            ],
            [
             1,
             "#276419"
            ]
           ],
           "sequential": [
            [
             0,
             "#0d0887"
            ],
            [
             0.1111111111111111,
             "#46039f"
            ],
            [
             0.2222222222222222,
             "#7201a8"
            ],
            [
             0.3333333333333333,
             "#9c179e"
            ],
            [
             0.4444444444444444,
             "#bd3786"
            ],
            [
             0.5555555555555556,
             "#d8576b"
            ],
            [
             0.6666666666666666,
             "#ed7953"
            ],
            [
             0.7777777777777778,
             "#fb9f3a"
            ],
            [
             0.8888888888888888,
             "#fdca26"
            ],
            [
             1,
             "#f0f921"
            ]
           ],
           "sequentialminus": [
            [
             0,
             "#0d0887"
            ],
            [
             0.1111111111111111,
             "#46039f"
            ],
            [
             0.2222222222222222,
             "#7201a8"
            ],
            [
             0.3333333333333333,
             "#9c179e"
            ],
            [
             0.4444444444444444,
             "#bd3786"
            ],
            [
             0.5555555555555556,
             "#d8576b"
            ],
            [
             0.6666666666666666,
             "#ed7953"
            ],
            [
             0.7777777777777778,
             "#fb9f3a"
            ],
            [
             0.8888888888888888,
             "#fdca26"
            ],
            [
             1,
             "#f0f921"
            ]
           ]
          },
          "colorway": [
           "#636efa",
           "#EF553B",
           "#00cc96",
           "#ab63fa",
           "#FFA15A",
           "#19d3f3",
           "#FF6692",
           "#B6E880",
           "#FF97FF",
           "#FECB52"
          ],
          "font": {
           "color": "#2a3f5f"
          },
          "geo": {
           "bgcolor": "white",
           "lakecolor": "white",
           "landcolor": "#E5ECF6",
           "showlakes": true,
           "showland": true,
           "subunitcolor": "white"
          },
          "hoverlabel": {
           "align": "left"
          },
          "hovermode": "closest",
          "mapbox": {
           "style": "light"
          },
          "paper_bgcolor": "white",
          "plot_bgcolor": "#E5ECF6",
          "polar": {
           "angularaxis": {
            "gridcolor": "white",
            "linecolor": "white",
            "ticks": ""
           },
           "bgcolor": "#E5ECF6",
           "radialaxis": {
            "gridcolor": "white",
            "linecolor": "white",
            "ticks": ""
           }
          },
          "scene": {
           "xaxis": {
            "backgroundcolor": "#E5ECF6",
            "gridcolor": "white",
            "gridwidth": 2,
            "linecolor": "white",
            "showbackground": true,
            "ticks": "",
            "zerolinecolor": "white"
           },
           "yaxis": {
            "backgroundcolor": "#E5ECF6",
            "gridcolor": "white",
            "gridwidth": 2,
            "linecolor": "white",
            "showbackground": true,
            "ticks": "",
            "zerolinecolor": "white"
           },
           "zaxis": {
            "backgroundcolor": "#E5ECF6",
            "gridcolor": "white",
            "gridwidth": 2,
            "linecolor": "white",
            "showbackground": true,
            "ticks": "",
            "zerolinecolor": "white"
           }
          },
          "shapedefaults": {
           "line": {
            "color": "#2a3f5f"
           }
          },
          "ternary": {
           "aaxis": {
            "gridcolor": "white",
            "linecolor": "white",
            "ticks": ""
           },
           "baxis": {
            "gridcolor": "white",
            "linecolor": "white",
            "ticks": ""
           },
           "bgcolor": "#E5ECF6",
           "caxis": {
            "gridcolor": "white",
            "linecolor": "white",
            "ticks": ""
           }
          },
          "title": {
           "x": 0.05
          },
          "xaxis": {
           "automargin": true,
           "gridcolor": "white",
           "linecolor": "white",
           "ticks": "",
           "title": {
            "standoff": 15
           },
           "zerolinecolor": "white",
           "zerolinewidth": 2
          },
          "yaxis": {
           "automargin": true,
           "gridcolor": "white",
           "linecolor": "white",
           "ticks": "",
           "title": {
            "standoff": 15
           },
           "zerolinecolor": "white",
           "zerolinewidth": 2
          }
         }
        },
        "xaxis": {
         "anchor": "y",
         "domain": [
          0,
          1
         ],
         "title": {
          "text": "Density(/km2)"
         }
        },
        "yaxis": {
         "anchor": "x",
         "domain": [
          0,
          1
         ],
         "title": {
          "text": "Average Price(JPY/sq.m)"
         }
        }
       }
      },
      "text/html": [
       "<div>                            <div id=\"c2b4b35e-cd69-465f-a555-eed8741291b5\" class=\"plotly-graph-div\" style=\"height:525px; width:100%;\"></div>            <script type=\"text/javascript\">                require([\"plotly\"], function(Plotly) {                    window.PLOTLYENV=window.PLOTLYENV || {};                                    if (document.getElementById(\"c2b4b35e-cd69-465f-a555-eed8741291b5\")) {                    Plotly.newPlot(                        \"c2b4b35e-cd69-465f-a555-eed8741291b5\",                        [{\"hovertemplate\": \"Name=Chiyoda<br>Density(/km2)=%{x}<br>Average Price(JPY/sq.m)=%{y}<extra></extra>\", \"legendgroup\": \"Chiyoda\", \"marker\": {\"color\": \"#636efa\", \"size\": 15, \"symbol\": \"circle\"}, \"mode\": \"markers\", \"name\": \"Chiyoda\", \"orientation\": \"v\", \"showlegend\": true, \"type\": \"scatter\", \"x\": [5100], \"xaxis\": \"x\", \"y\": [2839779.0], \"yaxis\": \"y\"}, {\"hovertemplate\": \"Name=Ch\\u016b\\u014d<br>Density(/km2)=%{x}<br>Average Price(JPY/sq.m)=%{y}<extra></extra>\", \"legendgroup\": \"Ch\\u016b\\u014d\", \"marker\": {\"color\": \"#EF553B\", \"size\": 15, \"symbol\": \"circle\"}, \"mode\": \"markers\", \"name\": \"Ch\\u016b\\u014d\", \"orientation\": \"v\", \"showlegend\": true, \"type\": \"scatter\", \"x\": [14460], \"xaxis\": \"x\", \"y\": [1876597.0], \"yaxis\": \"y\"}, {\"hovertemplate\": \"Name=Minato<br>Density(/km2)=%{x}<br>Average Price(JPY/sq.m)=%{y}<extra></extra>\", \"legendgroup\": \"Minato\", \"marker\": {\"color\": \"#00cc96\", \"size\": 15, \"symbol\": \"circle\"}, \"mode\": \"markers\", \"name\": \"Minato\", \"orientation\": \"v\", \"showlegend\": true, \"type\": \"scatter\", \"x\": [12180], \"xaxis\": \"x\", \"y\": [2075876.0], \"yaxis\": \"y\"}, {\"hovertemplate\": \"Name=Shinjuku<br>Density(/km2)=%{x}<br>Average Price(JPY/sq.m)=%{y}<extra></extra>\", \"legendgroup\": \"Shinjuku\", \"marker\": {\"color\": \"#ab63fa\", \"size\": 15, \"symbol\": \"circle\"}, \"mode\": \"markers\", \"name\": \"Shinjuku\", \"orientation\": \"v\", \"showlegend\": true, \"type\": \"scatter\", \"x\": [18620], \"xaxis\": \"x\", \"y\": [875098.0], \"yaxis\": \"y\"}, {\"hovertemplate\": \"Name=Bunky\\u014d<br>Density(/km2)=%{x}<br>Average Price(JPY/sq.m)=%{y}<extra></extra>\", \"legendgroup\": \"Bunky\\u014d\", \"marker\": {\"color\": \"#FFA15A\", \"size\": 15, \"symbol\": \"circle\"}, \"mode\": \"markers\", \"name\": \"Bunky\\u014d\", \"orientation\": \"v\", \"showlegend\": true, \"type\": \"scatter\", \"x\": [19790], \"xaxis\": \"x\", \"y\": [952715.0], \"yaxis\": \"y\"}, {\"hovertemplate\": \"Name=Tait\\u014d<br>Density(/km2)=%{x}<br>Average Price(JPY/sq.m)=%{y}<extra></extra>\", \"legendgroup\": \"Tait\\u014d\", \"marker\": {\"color\": \"#19d3f3\", \"size\": 15, \"symbol\": \"circle\"}, \"mode\": \"markers\", \"name\": \"Tait\\u014d\", \"orientation\": \"v\", \"showlegend\": true, \"type\": \"scatter\", \"x\": [19830], \"xaxis\": \"x\", \"y\": [970843.0], \"yaxis\": \"y\"}, {\"hovertemplate\": \"Name=Sumida<br>Density(/km2)=%{x}<br>Average Price(JPY/sq.m)=%{y}<extra></extra>\", \"legendgroup\": \"Sumida\", \"marker\": {\"color\": \"#FF6692\", \"size\": 15, \"symbol\": \"circle\"}, \"mode\": \"markers\", \"name\": \"Sumida\", \"orientation\": \"v\", \"showlegend\": true, \"type\": \"scatter\", \"x\": [18910], \"xaxis\": \"x\", \"y\": [605382.0], \"yaxis\": \"y\"}, {\"hovertemplate\": \"Name=K\\u014dt\\u014d<br>Density(/km2)=%{x}<br>Average Price(JPY/sq.m)=%{y}<extra></extra>\", \"legendgroup\": \"K\\u014dt\\u014d\", \"marker\": {\"color\": \"#B6E880\", \"size\": 15, \"symbol\": \"circle\"}, \"mode\": \"markers\", \"name\": \"K\\u014dt\\u014d\", \"orientation\": \"v\", \"showlegend\": true, \"type\": \"scatter\", \"x\": [12510], \"xaxis\": \"x\", \"y\": [653035.0], \"yaxis\": \"y\"}, {\"hovertemplate\": \"Name=Shinagawa<br>Density(/km2)=%{x}<br>Average Price(JPY/sq.m)=%{y}<extra></extra>\", \"legendgroup\": \"Shinagawa\", \"marker\": {\"color\": \"#FF97FF\", \"size\": 15, \"symbol\": \"circle\"}, \"mode\": \"markers\", \"name\": \"Shinagawa\", \"orientation\": \"v\", \"showlegend\": true, \"type\": \"scatter\", \"x\": [17180], \"xaxis\": \"x\", \"y\": [775938.0], \"yaxis\": \"y\"}, {\"hovertemplate\": \"Name=Meguro<br>Density(/km2)=%{x}<br>Average Price(JPY/sq.m)=%{y}<extra></extra>\", \"legendgroup\": \"Meguro\", \"marker\": {\"color\": \"#FECB52\", \"size\": 15, \"symbol\": \"circle\"}, \"mode\": \"markers\", \"name\": \"Meguro\", \"orientation\": \"v\", \"showlegend\": true, \"type\": \"scatter\", \"x\": [19110], \"xaxis\": \"x\", \"y\": [857665.0], \"yaxis\": \"y\"}, {\"hovertemplate\": \"Name=\\u014cta<br>Density(/km2)=%{x}<br>Average Price(JPY/sq.m)=%{y}<extra></extra>\", \"legendgroup\": \"\\u014cta\", \"marker\": {\"color\": \"#636efa\", \"size\": 15, \"symbol\": \"circle\"}, \"mode\": \"markers\", \"name\": \"\\u014cta\", \"orientation\": \"v\", \"showlegend\": true, \"type\": \"scatter\", \"x\": [11910], \"xaxis\": \"x\", \"y\": [556757.0], \"yaxis\": \"y\"}, {\"hovertemplate\": \"Name=Setagaya<br>Density(/km2)=%{x}<br>Average Price(JPY/sq.m)=%{y}<extra></extra>\", \"legendgroup\": \"Setagaya\", \"marker\": {\"color\": \"#EF553B\", \"size\": 15, \"symbol\": \"circle\"}, \"mode\": \"markers\", \"name\": \"Setagaya\", \"orientation\": \"v\", \"showlegend\": true, \"type\": \"scatter\", \"x\": [15690], \"xaxis\": \"x\", \"y\": [671528.0], \"yaxis\": \"y\"}, {\"hovertemplate\": \"Name=Shibuya<br>Density(/km2)=%{x}<br>Average Price(JPY/sq.m)=%{y}<extra></extra>\", \"legendgroup\": \"Shibuya\", \"marker\": {\"color\": \"#00cc96\", \"size\": 15, \"symbol\": \"circle\"}, \"mode\": \"markers\", \"name\": \"Shibuya\", \"orientation\": \"v\", \"showlegend\": true, \"type\": \"scatter\", \"x\": [15080], \"xaxis\": \"x\", \"y\": [1193412.0], \"yaxis\": \"y\"}, {\"hovertemplate\": \"Name=Nakano<br>Density(/km2)=%{x}<br>Average Price(JPY/sq.m)=%{y}<extra></extra>\", \"legendgroup\": \"Nakano\", \"marker\": {\"color\": \"#ab63fa\", \"size\": 15, \"symbol\": \"circle\"}, \"mode\": \"markers\", \"name\": \"Nakano\", \"orientation\": \"v\", \"showlegend\": true, \"type\": \"scatter\", \"x\": [21350], \"xaxis\": \"x\", \"y\": [584593.0], \"yaxis\": \"y\"}, {\"hovertemplate\": \"Name=Suginami<br>Density(/km2)=%{x}<br>Average Price(JPY/sq.m)=%{y}<extra></extra>\", \"legendgroup\": \"Suginami\", \"marker\": {\"color\": \"#FFA15A\", \"size\": 15, \"symbol\": \"circle\"}, \"mode\": \"markers\", \"name\": \"Suginami\", \"orientation\": \"v\", \"showlegend\": true, \"type\": \"scatter\", \"x\": [16750], \"xaxis\": \"x\", \"y\": [560405.0], \"yaxis\": \"y\"}, {\"hovertemplate\": \"Name=Toshima<br>Density(/km2)=%{x}<br>Average Price(JPY/sq.m)=%{y}<extra></extra>\", \"legendgroup\": \"Toshima\", \"marker\": {\"color\": \"#19d3f3\", \"size\": 15, \"symbol\": \"circle\"}, \"mode\": \"markers\", \"name\": \"Toshima\", \"orientation\": \"v\", \"showlegend\": true, \"type\": \"scatter\", \"x\": [22650], \"xaxis\": \"x\", \"y\": [678396.0], \"yaxis\": \"y\"}, {\"hovertemplate\": \"Name=Kita<br>Density(/km2)=%{x}<br>Average Price(JPY/sq.m)=%{y}<extra></extra>\", \"legendgroup\": \"Kita\", \"marker\": {\"color\": \"#FF6692\", \"size\": 15, \"symbol\": \"circle\"}, \"mode\": \"markers\", \"name\": \"Kita\", \"orientation\": \"v\", \"showlegend\": true, \"type\": \"scatter\", \"x\": [16740], \"xaxis\": \"x\", \"y\": [526373.0], \"yaxis\": \"y\"}, {\"hovertemplate\": \"Name=Arakawa<br>Density(/km2)=%{x}<br>Average Price(JPY/sq.m)=%{y}<extra></extra>\", \"legendgroup\": \"Arakawa\", \"marker\": {\"color\": \"#B6E880\", \"size\": 15, \"symbol\": \"circle\"}, \"mode\": \"markers\", \"name\": \"Arakawa\", \"orientation\": \"v\", \"showlegend\": true, \"type\": \"scatter\", \"x\": [21030], \"xaxis\": \"x\", \"y\": [475876.0], \"yaxis\": \"y\"}, {\"hovertemplate\": \"Name=Itabashi<br>Density(/km2)=%{x}<br>Average Price(JPY/sq.m)=%{y}<extra></extra>\", \"legendgroup\": \"Itabashi\", \"marker\": {\"color\": \"#FF97FF\", \"size\": 15, \"symbol\": \"circle\"}, \"mode\": \"markers\", \"name\": \"Itabashi\", \"orientation\": \"v\", \"showlegend\": true, \"type\": \"scatter\", \"x\": [17670], \"xaxis\": \"x\", \"y\": [432895.0], \"yaxis\": \"y\"}, {\"hovertemplate\": \"Name=Nerima<br>Density(/km2)=%{x}<br>Average Price(JPY/sq.m)=%{y}<extra></extra>\", \"legendgroup\": \"Nerima\", \"marker\": {\"color\": \"#FECB52\", \"size\": 15, \"symbol\": \"circle\"}, \"mode\": \"markers\", \"name\": \"Nerima\", \"orientation\": \"v\", \"showlegend\": true, \"type\": \"scatter\", \"x\": [15120], \"xaxis\": \"x\", \"y\": [408850.0], \"yaxis\": \"y\"}, {\"hovertemplate\": \"Name=Adachi<br>Density(/km2)=%{x}<br>Average Price(JPY/sq.m)=%{y}<extra></extra>\", \"legendgroup\": \"Adachi\", \"marker\": {\"color\": \"#636efa\", \"size\": 15, \"symbol\": \"circle\"}, \"mode\": \"markers\", \"name\": \"Adachi\", \"orientation\": \"v\", \"showlegend\": true, \"type\": \"scatter\", \"x\": [12660], \"xaxis\": \"x\", \"y\": [293587.0], \"yaxis\": \"y\"}, {\"hovertemplate\": \"Name=Katsushika<br>Density(/km2)=%{x}<br>Average Price(JPY/sq.m)=%{y}<extra></extra>\", \"legendgroup\": \"Katsushika\", \"marker\": {\"color\": \"#EF553B\", \"size\": 15, \"symbol\": \"circle\"}, \"mode\": \"markers\", \"name\": \"Katsushika\", \"orientation\": \"v\", \"showlegend\": true, \"type\": \"scatter\", \"x\": [12850], \"xaxis\": \"x\", \"y\": [308694.0], \"yaxis\": \"y\"}, {\"hovertemplate\": \"Name=Edogawa<br>Density(/km2)=%{x}<br>Average Price(JPY/sq.m)=%{y}<extra></extra>\", \"legendgroup\": \"Edogawa\", \"marker\": {\"color\": \"#00cc96\", \"size\": 15, \"symbol\": \"circle\"}, \"mode\": \"markers\", \"name\": \"Edogawa\", \"orientation\": \"v\", \"showlegend\": true, \"type\": \"scatter\", \"x\": [13750], \"xaxis\": \"x\", \"y\": [334899.0], \"yaxis\": \"y\"}, {\"hovertemplate\": \"Name=Overall<br>Density(/km2)=%{x}<br>Average Price(JPY/sq.m)=%{y}<extra></extra>\", \"legendgroup\": \"Overall\", \"marker\": {\"color\": \"#ab63fa\", \"size\": 15, \"symbol\": \"circle\"}, \"mode\": \"markers\", \"name\": \"Overall\", \"orientation\": \"v\", \"showlegend\": true, \"type\": \"scatter\", \"x\": [15146], \"xaxis\": \"x\", \"y\": [null], \"yaxis\": \"y\"}],                        {\"legend\": {\"title\": {\"text\": \"Name\"}, \"tracegroupgap\": 0}, \"margin\": {\"t\": 60}, \"template\": {\"data\": {\"bar\": [{\"error_x\": {\"color\": \"#2a3f5f\"}, \"error_y\": {\"color\": \"#2a3f5f\"}, \"marker\": {\"line\": {\"color\": \"#E5ECF6\", \"width\": 0.5}}, \"type\": \"bar\"}], \"barpolar\": [{\"marker\": {\"line\": {\"color\": \"#E5ECF6\", \"width\": 0.5}}, \"type\": \"barpolar\"}], \"carpet\": [{\"aaxis\": {\"endlinecolor\": \"#2a3f5f\", \"gridcolor\": \"white\", \"linecolor\": \"white\", \"minorgridcolor\": \"white\", \"startlinecolor\": \"#2a3f5f\"}, \"baxis\": {\"endlinecolor\": \"#2a3f5f\", \"gridcolor\": \"white\", \"linecolor\": \"white\", \"minorgridcolor\": \"white\", \"startlinecolor\": \"#2a3f5f\"}, \"type\": \"carpet\"}], \"choropleth\": [{\"colorbar\": {\"outlinewidth\": 0, \"ticks\": \"\"}, \"type\": \"choropleth\"}], \"contour\": [{\"colorbar\": {\"outlinewidth\": 0, \"ticks\": \"\"}, \"colorscale\": [[0.0, \"#0d0887\"], [0.1111111111111111, \"#46039f\"], [0.2222222222222222, \"#7201a8\"], [0.3333333333333333, \"#9c179e\"], [0.4444444444444444, \"#bd3786\"], [0.5555555555555556, \"#d8576b\"], [0.6666666666666666, \"#ed7953\"], [0.7777777777777778, \"#fb9f3a\"], [0.8888888888888888, \"#fdca26\"], [1.0, \"#f0f921\"]], \"type\": \"contour\"}], \"contourcarpet\": [{\"colorbar\": {\"outlinewidth\": 0, \"ticks\": \"\"}, \"type\": \"contourcarpet\"}], \"heatmap\": [{\"colorbar\": {\"outlinewidth\": 0, \"ticks\": \"\"}, \"colorscale\": [[0.0, \"#0d0887\"], [0.1111111111111111, \"#46039f\"], [0.2222222222222222, \"#7201a8\"], [0.3333333333333333, \"#9c179e\"], [0.4444444444444444, \"#bd3786\"], [0.5555555555555556, \"#d8576b\"], [0.6666666666666666, \"#ed7953\"], [0.7777777777777778, \"#fb9f3a\"], [0.8888888888888888, \"#fdca26\"], [1.0, \"#f0f921\"]], \"type\": \"heatmap\"}], \"heatmapgl\": [{\"colorbar\": {\"outlinewidth\": 0, \"ticks\": \"\"}, \"colorscale\": [[0.0, \"#0d0887\"], [0.1111111111111111, \"#46039f\"], [0.2222222222222222, \"#7201a8\"], [0.3333333333333333, \"#9c179e\"], [0.4444444444444444, \"#bd3786\"], [0.5555555555555556, \"#d8576b\"], [0.6666666666666666, \"#ed7953\"], [0.7777777777777778, \"#fb9f3a\"], [0.8888888888888888, \"#fdca26\"], [1.0, \"#f0f921\"]], \"type\": \"heatmapgl\"}], \"histogram\": [{\"marker\": {\"colorbar\": {\"outlinewidth\": 0, \"ticks\": \"\"}}, \"type\": \"histogram\"}], \"histogram2d\": [{\"colorbar\": {\"outlinewidth\": 0, \"ticks\": \"\"}, \"colorscale\": [[0.0, \"#0d0887\"], [0.1111111111111111, \"#46039f\"], [0.2222222222222222, \"#7201a8\"], [0.3333333333333333, \"#9c179e\"], [0.4444444444444444, \"#bd3786\"], [0.5555555555555556, \"#d8576b\"], [0.6666666666666666, \"#ed7953\"], [0.7777777777777778, \"#fb9f3a\"], [0.8888888888888888, \"#fdca26\"], [1.0, \"#f0f921\"]], \"type\": \"histogram2d\"}], \"histogram2dcontour\": [{\"colorbar\": {\"outlinewidth\": 0, \"ticks\": \"\"}, \"colorscale\": [[0.0, \"#0d0887\"], [0.1111111111111111, \"#46039f\"], [0.2222222222222222, \"#7201a8\"], [0.3333333333333333, \"#9c179e\"], [0.4444444444444444, \"#bd3786\"], [0.5555555555555556, \"#d8576b\"], [0.6666666666666666, \"#ed7953\"], [0.7777777777777778, \"#fb9f3a\"], [0.8888888888888888, \"#fdca26\"], [1.0, \"#f0f921\"]], \"type\": \"histogram2dcontour\"}], \"mesh3d\": [{\"colorbar\": {\"outlinewidth\": 0, \"ticks\": \"\"}, \"type\": \"mesh3d\"}], \"parcoords\": [{\"line\": {\"colorbar\": {\"outlinewidth\": 0, \"ticks\": \"\"}}, \"type\": \"parcoords\"}], \"pie\": [{\"automargin\": true, \"type\": \"pie\"}], \"scatter\": [{\"marker\": {\"colorbar\": {\"outlinewidth\": 0, \"ticks\": \"\"}}, \"type\": \"scatter\"}], \"scatter3d\": [{\"line\": {\"colorbar\": {\"outlinewidth\": 0, \"ticks\": \"\"}}, \"marker\": {\"colorbar\": {\"outlinewidth\": 0, \"ticks\": \"\"}}, \"type\": \"scatter3d\"}], \"scattercarpet\": [{\"marker\": {\"colorbar\": {\"outlinewidth\": 0, \"ticks\": \"\"}}, \"type\": \"scattercarpet\"}], \"scattergeo\": [{\"marker\": {\"colorbar\": {\"outlinewidth\": 0, \"ticks\": \"\"}}, \"type\": \"scattergeo\"}], \"scattergl\": [{\"marker\": {\"colorbar\": {\"outlinewidth\": 0, \"ticks\": \"\"}}, \"type\": \"scattergl\"}], \"scattermapbox\": [{\"marker\": {\"colorbar\": {\"outlinewidth\": 0, \"ticks\": \"\"}}, \"type\": \"scattermapbox\"}], \"scatterpolar\": [{\"marker\": {\"colorbar\": {\"outlinewidth\": 0, \"ticks\": \"\"}}, \"type\": \"scatterpolar\"}], \"scatterpolargl\": [{\"marker\": {\"colorbar\": {\"outlinewidth\": 0, \"ticks\": \"\"}}, \"type\": \"scatterpolargl\"}], \"scatterternary\": [{\"marker\": {\"colorbar\": {\"outlinewidth\": 0, \"ticks\": \"\"}}, \"type\": \"scatterternary\"}], \"surface\": [{\"colorbar\": {\"outlinewidth\": 0, \"ticks\": \"\"}, \"colorscale\": [[0.0, \"#0d0887\"], [0.1111111111111111, \"#46039f\"], [0.2222222222222222, \"#7201a8\"], [0.3333333333333333, \"#9c179e\"], [0.4444444444444444, \"#bd3786\"], [0.5555555555555556, \"#d8576b\"], [0.6666666666666666, \"#ed7953\"], [0.7777777777777778, \"#fb9f3a\"], [0.8888888888888888, \"#fdca26\"], [1.0, \"#f0f921\"]], \"type\": \"surface\"}], \"table\": [{\"cells\": {\"fill\": {\"color\": \"#EBF0F8\"}, \"line\": {\"color\": \"white\"}}, \"header\": {\"fill\": {\"color\": \"#C8D4E3\"}, \"line\": {\"color\": \"white\"}}, \"type\": \"table\"}]}, \"layout\": {\"annotationdefaults\": {\"arrowcolor\": \"#2a3f5f\", \"arrowhead\": 0, \"arrowwidth\": 1}, \"autotypenumbers\": \"strict\", \"coloraxis\": {\"colorbar\": {\"outlinewidth\": 0, \"ticks\": \"\"}}, \"colorscale\": {\"diverging\": [[0, \"#8e0152\"], [0.1, \"#c51b7d\"], [0.2, \"#de77ae\"], [0.3, \"#f1b6da\"], [0.4, \"#fde0ef\"], [0.5, \"#f7f7f7\"], [0.6, \"#e6f5d0\"], [0.7, \"#b8e186\"], [0.8, \"#7fbc41\"], [0.9, \"#4d9221\"], [1, \"#276419\"]], \"sequential\": [[0.0, \"#0d0887\"], [0.1111111111111111, \"#46039f\"], [0.2222222222222222, \"#7201a8\"], [0.3333333333333333, \"#9c179e\"], [0.4444444444444444, \"#bd3786\"], [0.5555555555555556, \"#d8576b\"], [0.6666666666666666, \"#ed7953\"], [0.7777777777777778, \"#fb9f3a\"], [0.8888888888888888, \"#fdca26\"], [1.0, \"#f0f921\"]], \"sequentialminus\": [[0.0, \"#0d0887\"], [0.1111111111111111, \"#46039f\"], [0.2222222222222222, \"#7201a8\"], [0.3333333333333333, \"#9c179e\"], [0.4444444444444444, \"#bd3786\"], [0.5555555555555556, \"#d8576b\"], [0.6666666666666666, \"#ed7953\"], [0.7777777777777778, \"#fb9f3a\"], [0.8888888888888888, \"#fdca26\"], [1.0, \"#f0f921\"]]}, \"colorway\": [\"#636efa\", \"#EF553B\", \"#00cc96\", \"#ab63fa\", \"#FFA15A\", \"#19d3f3\", \"#FF6692\", \"#B6E880\", \"#FF97FF\", \"#FECB52\"], \"font\": {\"color\": \"#2a3f5f\"}, \"geo\": {\"bgcolor\": \"white\", \"lakecolor\": \"white\", \"landcolor\": \"#E5ECF6\", \"showlakes\": true, \"showland\": true, \"subunitcolor\": \"white\"}, \"hoverlabel\": {\"align\": \"left\"}, \"hovermode\": \"closest\", \"mapbox\": {\"style\": \"light\"}, \"paper_bgcolor\": \"white\", \"plot_bgcolor\": \"#E5ECF6\", \"polar\": {\"angularaxis\": {\"gridcolor\": \"white\", \"linecolor\": \"white\", \"ticks\": \"\"}, \"bgcolor\": \"#E5ECF6\", \"radialaxis\": {\"gridcolor\": \"white\", \"linecolor\": \"white\", \"ticks\": \"\"}}, \"scene\": {\"xaxis\": {\"backgroundcolor\": \"#E5ECF6\", \"gridcolor\": \"white\", \"gridwidth\": 2, \"linecolor\": \"white\", \"showbackground\": true, \"ticks\": \"\", \"zerolinecolor\": \"white\"}, \"yaxis\": {\"backgroundcolor\": \"#E5ECF6\", \"gridcolor\": \"white\", \"gridwidth\": 2, \"linecolor\": \"white\", \"showbackground\": true, \"ticks\": \"\", \"zerolinecolor\": \"white\"}, \"zaxis\": {\"backgroundcolor\": \"#E5ECF6\", \"gridcolor\": \"white\", \"gridwidth\": 2, \"linecolor\": \"white\", \"showbackground\": true, \"ticks\": \"\", \"zerolinecolor\": \"white\"}}, \"shapedefaults\": {\"line\": {\"color\": \"#2a3f5f\"}}, \"ternary\": {\"aaxis\": {\"gridcolor\": \"white\", \"linecolor\": \"white\", \"ticks\": \"\"}, \"baxis\": {\"gridcolor\": \"white\", \"linecolor\": \"white\", \"ticks\": \"\"}, \"bgcolor\": \"#E5ECF6\", \"caxis\": {\"gridcolor\": \"white\", \"linecolor\": \"white\", \"ticks\": \"\"}}, \"title\": {\"x\": 0.05}, \"xaxis\": {\"automargin\": true, \"gridcolor\": \"white\", \"linecolor\": \"white\", \"ticks\": \"\", \"title\": {\"standoff\": 15}, \"zerolinecolor\": \"white\", \"zerolinewidth\": 2}, \"yaxis\": {\"automargin\": true, \"gridcolor\": \"white\", \"linecolor\": \"white\", \"ticks\": \"\", \"title\": {\"standoff\": 15}, \"zerolinecolor\": \"white\", \"zerolinewidth\": 2}}}, \"xaxis\": {\"anchor\": \"y\", \"domain\": [0.0, 1.0], \"title\": {\"text\": \"Density(/km2)\"}}, \"yaxis\": {\"anchor\": \"x\", \"domain\": [0.0, 1.0], \"title\": {\"text\": \"Average Price(JPY/sq.m)\"}}},                        {\"responsive\": true}                    ).then(function(){\n",
       "                            \n",
       "var gd = document.getElementById('c2b4b35e-cd69-465f-a555-eed8741291b5');\n",
       "var x = new MutationObserver(function (mutations, observer) {{\n",
       "        var display = window.getComputedStyle(gd).display;\n",
       "        if (!display || display === 'none') {{\n",
       "            console.log([gd, 'removed!']);\n",
       "            Plotly.purge(gd);\n",
       "            observer.disconnect();\n",
       "        }}\n",
       "}});\n",
       "\n",
       "// Listen for the removal of the full notebook cells\n",
       "var notebookContainer = gd.closest('#notebook-container');\n",
       "if (notebookContainer) {{\n",
       "    x.observe(notebookContainer, {childList: true});\n",
       "}}\n",
       "\n",
       "// Listen for the clearing of the current output cell\n",
       "var outputEl = gd.closest('.output');\n",
       "if (outputEl) {{\n",
       "    x.observe(outputEl, {childList: true});\n",
       "}}\n",
       "\n",
       "                        })                };                });            </script>        </div>"
      ]
     },
     "metadata": {},
     "output_type": "display_data"
    }
   ],
   "source": [
    "fig = go.scatter(data_frame = wards_df,\n",
    "                 x = 'Density(/km2)',\n",
    "                 y = 'Average Price(JPY/sq.m)',\n",
    "                 color = 'Name')\n",
    "\n",
    "fig.update_traces(marker = dict(size = 15))\n",
    "fig.show()"
   ]
  },
  {
   "cell_type": "markdown",
   "id": "af1cac7c",
   "metadata": {},
   "source": [
    "Based on this scatter plot, Toshima ward has the most density while Chiyoda has the least density by it is by far the most expensive. Let's quickly confirm the density per price ratio:"
   ]
  },
  {
   "cell_type": "code",
   "execution_count": 25,
   "id": "d2f65e4d",
   "metadata": {},
   "outputs": [
    {
     "data": {
      "text/html": [
       "<div>\n",
       "<style scoped>\n",
       "    .dataframe tbody tr th:only-of-type {\n",
       "        vertical-align: middle;\n",
       "    }\n",
       "\n",
       "    .dataframe tbody tr th {\n",
       "        vertical-align: top;\n",
       "    }\n",
       "\n",
       "    .dataframe thead th {\n",
       "        text-align: right;\n",
       "    }\n",
       "</style>\n",
       "<table border=\"1\" class=\"dataframe\">\n",
       "  <thead>\n",
       "    <tr style=\"text-align: right;\">\n",
       "      <th></th>\n",
       "      <th>Name</th>\n",
       "      <th>Kanji</th>\n",
       "      <th>Density(/km2)</th>\n",
       "      <th>Average Price(JPY/sq.m)</th>\n",
       "      <th>Density/Price ratio</th>\n",
       "    </tr>\n",
       "  </thead>\n",
       "  <tbody>\n",
       "    <tr>\n",
       "      <th>17</th>\n",
       "      <td>Arakawa</td>\n",
       "      <td>荒川区</td>\n",
       "      <td>21030</td>\n",
       "      <td>475876.0</td>\n",
       "      <td>0.044192</td>\n",
       "    </tr>\n",
       "    <tr>\n",
       "      <th>20</th>\n",
       "      <td>Adachi</td>\n",
       "      <td>足立区</td>\n",
       "      <td>12660</td>\n",
       "      <td>293587.0</td>\n",
       "      <td>0.043122</td>\n",
       "    </tr>\n",
       "    <tr>\n",
       "      <th>21</th>\n",
       "      <td>Katsushika</td>\n",
       "      <td>葛飾区</td>\n",
       "      <td>12850</td>\n",
       "      <td>308694.0</td>\n",
       "      <td>0.041627</td>\n",
       "    </tr>\n",
       "    <tr>\n",
       "      <th>22</th>\n",
       "      <td>Edogawa</td>\n",
       "      <td>江戸川区</td>\n",
       "      <td>13750</td>\n",
       "      <td>334899.0</td>\n",
       "      <td>0.041057</td>\n",
       "    </tr>\n",
       "    <tr>\n",
       "      <th>18</th>\n",
       "      <td>Itabashi</td>\n",
       "      <td>板橋区</td>\n",
       "      <td>17670</td>\n",
       "      <td>432895.0</td>\n",
       "      <td>0.040818</td>\n",
       "    </tr>\n",
       "    <tr>\n",
       "      <th>19</th>\n",
       "      <td>Nerima</td>\n",
       "      <td>練馬区</td>\n",
       "      <td>15120</td>\n",
       "      <td>408850.0</td>\n",
       "      <td>0.036982</td>\n",
       "    </tr>\n",
       "    <tr>\n",
       "      <th>13</th>\n",
       "      <td>Nakano</td>\n",
       "      <td>中野区</td>\n",
       "      <td>21350</td>\n",
       "      <td>584593.0</td>\n",
       "      <td>0.036521</td>\n",
       "    </tr>\n",
       "    <tr>\n",
       "      <th>15</th>\n",
       "      <td>Toshima</td>\n",
       "      <td>豊島区</td>\n",
       "      <td>22650</td>\n",
       "      <td>678396.0</td>\n",
       "      <td>0.033388</td>\n",
       "    </tr>\n",
       "    <tr>\n",
       "      <th>16</th>\n",
       "      <td>Kita</td>\n",
       "      <td>北区</td>\n",
       "      <td>16740</td>\n",
       "      <td>526373.0</td>\n",
       "      <td>0.031803</td>\n",
       "    </tr>\n",
       "    <tr>\n",
       "      <th>6</th>\n",
       "      <td>Sumida</td>\n",
       "      <td>墨田区</td>\n",
       "      <td>18910</td>\n",
       "      <td>605382.0</td>\n",
       "      <td>0.031236</td>\n",
       "    </tr>\n",
       "  </tbody>\n",
       "</table>\n",
       "</div>"
      ],
      "text/plain": [
       "          Name Kanji  Density(/km2)  Average Price(JPY/sq.m)  \\\n",
       "17     Arakawa   荒川区          21030                 475876.0   \n",
       "20      Adachi   足立区          12660                 293587.0   \n",
       "21  Katsushika   葛飾区          12850                 308694.0   \n",
       "22     Edogawa  江戸川区          13750                 334899.0   \n",
       "18    Itabashi   板橋区          17670                 432895.0   \n",
       "19      Nerima   練馬区          15120                 408850.0   \n",
       "13      Nakano   中野区          21350                 584593.0   \n",
       "15     Toshima   豊島区          22650                 678396.0   \n",
       "16        Kita    北区          16740                 526373.0   \n",
       "6       Sumida   墨田区          18910                 605382.0   \n",
       "\n",
       "    Density/Price ratio  \n",
       "17             0.044192  \n",
       "20             0.043122  \n",
       "21             0.041627  \n",
       "22             0.041057  \n",
       "18             0.040818  \n",
       "19             0.036982  \n",
       "13             0.036521  \n",
       "15             0.033388  \n",
       "16             0.031803  \n",
       "6              0.031236  "
      ]
     },
     "execution_count": 25,
     "metadata": {},
     "output_type": "execute_result"
    }
   ],
   "source": [
    "wards_df['Density/Price ratio'] = wards_df['Density(/km2)']/wards_df['Average Price(JPY/sq.m)']\n",
    "wards_df.sort_values(by = 'Density/Price ratio', ascending = False).head(10)"
   ]
  },
  {
   "cell_type": "markdown",
   "id": "8dc55bf9",
   "metadata": {},
   "source": [
    "## References"
   ]
  },
  {
   "cell_type": "markdown",
   "id": "fc81f313",
   "metadata": {},
   "source": [
    "[1-5] - Accessed on the 13/06/2021."
   ]
  }
 ],
 "metadata": {
  "kernelspec": {
   "display_name": "Python 3",
   "language": "python",
   "name": "python3"
  },
  "language_info": {
   "codemirror_mode": {
    "name": "ipython",
    "version": 3
   },
   "file_extension": ".py",
   "mimetype": "text/x-python",
   "name": "python",
   "nbconvert_exporter": "python",
   "pygments_lexer": "ipython3",
   "version": "3.8.8"
  }
 },
 "nbformat": 4,
 "nbformat_minor": 5
}
