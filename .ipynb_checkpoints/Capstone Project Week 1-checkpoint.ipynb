{
 "cells": [
  {
   "cell_type": "markdown",
   "id": "c612addb",
   "metadata": {},
   "source": [
    "# Tokyo analysis - Where to set a new business?"
   ]
  },
  {
   "cell_type": "markdown",
   "id": "6f5dbe6c",
   "metadata": {},
   "source": [
    "## Introduction"
   ]
  },
  {
   "cell_type": "markdown",
   "id": "c50f9f82",
   "metadata": {},
   "source": [
    "### 1. Background and problem description:"
   ]
  },
  {
   "cell_type": "markdown",
   "id": "8eee9669",
   "metadata": {},
   "source": [
    "Tokyo, or officially known as Tokyo Metropolis, is the capital of Japan and the most populated prefecture in the entire country. The city holds around 13,960,236 people across 23 special wards [[1]](https://en.wikipedia.org/wiki/Tokyo). Such a high amount of people aggregated in one city causes its density to reach around 6,363 people per square kilometer [[2]](https://www.metro.tokyo.lg.jp/tosei/hodohappyo/press/2021/01/28/01.html).\n",
    "\n",
    "Densely populated areas tend to lead to a highly diversified market demand for food and other catering services. This can easily turn into a double edge sword. On one hand, successful businesses can thrive at a faster pace and expand, however, this also means that businesses have added pressure to keep up with world trends and to cater to new customer needs in order to out-compete their massive competition. Furthermore, new businesses have an even harder time to enter this already established ecosystem.\n",
    "\n",
    "*Location, location, location.* **Where should one start?** \n",
    "* From a shop owner perspective, a place that is located in a highly dense area, with \"hopefully\" lower land costs and even more \"hopefully\" less direct competition would be a good start. \n",
    "* From an investor perspective, the same information could be quite insightful to understand a business potential longevity and challenges (competition wise) in the short to mid-term.\n",
    "\n",
    "This project aims at providing a solution that relies heavily on the \"easy visualization\" data staple. So that both new shop owners and investors can quickly gather insight on viable new opportunities."
   ]
  },
  {
   "cell_type": "markdown",
   "id": "e931e741",
   "metadata": {},
   "source": [
    "### 2. Data description:"
   ]
  },
  {
   "cell_type": "markdown",
   "id": "cc827c26",
   "metadata": {},
   "source": [
    "**Data Plan:**\n",
    "\n",
    "1) Initially, a potential ward of interest will be shortlisted based on population density and land price factors;\n",
    "\n",
    "2) From this, its respective boroughs will be analysed in terms of common venues (indirect/direct competitors and potential synergies with other businesses);\n",
    "\n",
    "3) Lastly, the land price values for each borough will be overlapped on a world map with the common venues clustering information to further help reduce the potential areas to set up a new business.  \n",
    "\n",
    "The required information will be extracted from publicly available resources:\n",
    "* Wards Density information; [[3]](https://en.wikipedia.org/wiki/Special_wards_of_Tokyo#List_of_special_wards)\n",
    "* Tokyo Land market value list; [[4]](https://utinokati.com/en/details/land-market-value/area/Tokyo/)\n",
    "* ZIP codes within Tokyo; [[5]](https://japan-postcode.810popo.net/tokyoto/)\n",
    "* Location coordinates using Geocoder Python Package; [[6]](https://geocoder.readthedocs.io/)\n",
    "* **Foursquare location** to extract respective borough information. [[7]](https://foursquare.com/)"
   ]
  },
  {
   "cell_type": "markdown",
   "id": "aab4eac4",
   "metadata": {},
   "source": [
    "## Methodology (case study - new bakery)"
   ]
  },
  {
   "cell_type": "markdown",
   "id": "91a47c35",
   "metadata": {},
   "source": [
    " #### Required libraries to run the notebook:"
   ]
  },
  {
   "cell_type": "code",
   "execution_count": null,
   "id": "1c54d11f",
   "metadata": {},
   "outputs": [],
   "source": [
    "import requests\n",
    "import numpy as np\n",
    "import pandas as pd\n",
    "\n",
    "import plotly.express as px\n",
    "import plotly.graph_objects as go\n",
    "from plotly.subplots import make_subplots\n",
    "\n",
    "import matplotlib.cm as cm\n",
    "import matplotlib.pyplot as plt\n",
    "import matplotlib.colors as colors\n",
    "\n",
    "from sklearn.cluster import KMeans\n",
    "\n",
    "import folium\n",
    "import geocoder\n",
    "from geopy.geocoders import Nominatim\n",
    "\n",
    "from bs4 import BeautifulSoup"
   ]
  },
  {
   "cell_type": "markdown",
   "id": "b0e5d798",
   "metadata": {},
   "source": [
    "### Step 1 - Webscrape Tokyo's Wards data: \n",
    "    1. Name & density\n",
    "    2. Average price per land (JPY per square meters)"
   ]
  },
  {
   "cell_type": "code",
   "execution_count": null,
   "id": "2610e90c",
   "metadata": {},
   "outputs": [],
   "source": [
    "# Ward name and density\n",
    "url = 'https://en.wikipedia.org/wiki/Special_wards_of_Tokyo#List_of_special_wards'\n",
    "response = requests.get(url)\n",
    "\n",
    "soup = BeautifulSoup(response.text, 'html.parser')\n",
    "table = soup.find('table', {'class':'wikitable sortable'})\n",
    "\n",
    "ward_info = pd.read_html(str(table))[0]\n",
    "\n",
    "ward_info.drop(ward_info.columns[[0,1,4,6,7]], axis = 1, inplace = True) # Remove extra columns from the original table"
   ]
  },
  {
   "cell_type": "code",
   "execution_count": null,
   "id": "8e68746d",
   "metadata": {},
   "outputs": [],
   "source": [
    "ward_info.head(5)"
   ]
  },
  {
   "cell_type": "code",
   "execution_count": null,
   "id": "a8f6c683",
   "metadata": {},
   "outputs": [],
   "source": [
    "# Ward average price per land\n",
    "url = 'https://utinokati.com/en/details/land-market-value/area/Tokyo/'\n",
    "response = requests.get(url)\n",
    "\n",
    "soup = BeautifulSoup(response.text, 'html.parser')\n",
    "table = soup.find('table', {'id':'region_overview'})\n",
    "\n",
    "ward_price = pd.read_html(str(table))[0]\n",
    "\n",
    "# Extra cleaning steps with the dataframe\n",
    "ward_price.drop(ward_price.columns[[1,3]], axis = 1, inplace = True) # Remove added columns within the dataframe\n",
    "ward_price.drop(ward_price.index[23:len(ward_price)], axis = 0, inplace = True) # Remove cities information\n",
    "ward_price['Average Unit Price'] = ward_price['Average Unit Price'].str.replace('JPY/sq.m','', regex = True)\n",
    "ward_price['Average Unit Price'] = ward_price['Average Unit Price'].str.replace(',','', regex = True)\n",
    "ward_price = ward_price.rename(columns = {'Average Unit Price': 'Average Price(JPY/sq.m)'})"
   ]
  },
  {
   "cell_type": "code",
   "execution_count": null,
   "id": "3ff7aae0",
   "metadata": {},
   "outputs": [],
   "source": [
    "ward_price.head(5)"
   ]
  },
  {
   "cell_type": "markdown",
   "id": "2cdd0ec4",
   "metadata": {},
   "source": [
    "### Step 2 - Choose the most promising ward:"
   ]
  },
  {
   "cell_type": "code",
   "execution_count": null,
   "id": "93b7824e",
   "metadata": {},
   "outputs": [],
   "source": [
    "# Join both dataframes into one\n",
    "wards_df = pd.concat([ward_info, ward_price], axis = 1)\n",
    "wards_df.drop(['Area'], axis = 1, inplace = True)\n",
    "wards_df.head(5)"
   ]
  },
  {
   "cell_type": "code",
   "execution_count": null,
   "id": "77fef1ab",
   "metadata": {},
   "outputs": [],
   "source": [
    "# Check that every column has the correct type of data structure\n",
    "wards_df.dtypes"
   ]
  },
  {
   "cell_type": "code",
   "execution_count": null,
   "id": "9235e2a5",
   "metadata": {},
   "outputs": [],
   "source": [
    "# Change Average Price column to integers\n",
    "wards_df['Average Price(JPY/sq.m)'] = pd.to_numeric(wards_df['Average Price(JPY/sq.m)'])"
   ]
  },
  {
   "cell_type": "code",
   "execution_count": null,
   "id": "ca208c91",
   "metadata": {},
   "outputs": [],
   "source": [
    "fig = px.scatter(data_frame = wards_df,\n",
    "                 x = 'Density(/km2)',\n",
    "                 y = 'Average Price(JPY/sq.m)',\n",
    "                 color = 'Name')\n",
    "\n",
    "fig.update_traces(marker = dict(size = 15))\n",
    "fig.show()"
   ]
  },
  {
   "cell_type": "markdown",
   "id": "181fdc4c",
   "metadata": {},
   "source": [
    "Based on this scatter plot, Toshima ward has the most density while Chiyoda has the least density by it is by far the most expensive in terms of land value. Let's quickly confirm the density per price ratio:"
   ]
  },
  {
   "cell_type": "code",
   "execution_count": null,
   "id": "e2ec17da",
   "metadata": {},
   "outputs": [],
   "source": [
    "wards_df['Density/Price ratio'] = wards_df['Density(/km2)']/wards_df['Average Price(JPY/sq.m)']\n",
    "potential_wards = wards_df.sort_values(by = 'Density/Price ratio', ascending = False).head(10)"
   ]
  },
  {
   "cell_type": "code",
   "execution_count": null,
   "id": "ba36851b",
   "metadata": {},
   "outputs": [],
   "source": [
    "fig = px.bar(data_frame = potential_wards,\n",
    "             x = 'Name',\n",
    "             y = 'Density/Price ratio',\n",
    "             labels = {'Name':'Ward names'})\n",
    "\n",
    "fig.update_layout(title_text = 'Top 10 wards with the highest density per land price ratio', title_x = 0.5)\n",
    "\n",
    "fig.show()"
   ]
  },
  {
   "cell_type": "markdown",
   "id": "ec1605f9",
   "metadata": {},
   "source": [
    "### Step 3 - Extract information from Arakawa ward:\n",
    "    1. Obtain neighborhood's names and postal codes\n",
    "    2. Extract each neighborhood's coordinates\n",
    "    3. Acquire the land price for each neighborhood"
   ]
  },
  {
   "cell_type": "code",
   "execution_count": null,
   "id": "0f67111b",
   "metadata": {},
   "outputs": [],
   "source": [
    "# Neighborhood's names and Postal codes\n",
    "neighborhood_pc = pd.read_csv('Arakawa_ward_zipCodes.txt', sep = ',', names = ['Names', 'Postal Code'])\n",
    "neighborhood_pc.head(7)"
   ]
  },
  {
   "cell_type": "code",
   "execution_count": null,
   "id": "9b17288f",
   "metadata": {},
   "outputs": [],
   "source": [
    "# Coordinates for each neighborhood using Geocode \n",
    "# Unfortunately, I could not extract using this library -> None problem...\n",
    "\n",
    "for k in range(len(neighborhood_pc)):\n",
    "    lat_lng_coords = None\n",
    "    \n",
    "    # Since Geocode can sometimes fail, a while loop has to be initiated until the coordinates are actually extracted\n",
    "    while(lat_lng_coords is None):\n",
    "        g = geocoder.google('{}, {}, Tokyo'.format(neighborhood_pc['Postal Code'][k], neighborhood_pc['Names'][k]))\n",
    "        lat_lng_coords = g.latlng\n",
    "        \n",
    "    print(lat_lng_coords)\n",
    "    borough_df['Latitude'][k] = lat_lng_coords[0]\n",
    "    borough_df['Longitude'][k] = lat_lng_coords[1]"
   ]
  },
  {
   "cell_type": "markdown",
   "id": "b1a6db44",
   "metadata": {},
   "source": [
    "##### Neighborhood's coordinates (extracted using Google Maps , search query = Neighborhood's name + Postal code)"
   ]
  },
  {
   "cell_type": "code",
   "execution_count": null,
   "id": "62e13a4b",
   "metadata": {},
   "outputs": [],
   "source": [
    "neighborhood_coord = pd.read_csv('Arakawa_coordinates.txt', sep = ',', names = ['Name', 'Latitude', 'Longitude'])\n",
    "neighborhood_coord.head(7)"
   ]
  },
  {
   "cell_type": "code",
   "execution_count": null,
   "id": "c79d89b9",
   "metadata": {},
   "outputs": [],
   "source": [
    "# Acquire average land price for each neighborhood\n",
    "# I saved the table as .txt file since I needed to translate each neighborhood name from Japanese to English\n",
    "neighborhood_price = pd.read_csv('Arakawa_price.txt', sep = ',', names = ['Name', 'Average Price(JPY/sq.m)'])\n",
    "neighborhood_price.head(7)"
   ]
  },
  {
   "cell_type": "code",
   "execution_count": null,
   "id": "60f0ebb8",
   "metadata": {},
   "outputs": [],
   "source": [
    "# Combine all data into one dataframe for the respective borough = Arakawa\n",
    "borough_df = pd.concat([neighborhood_pc, neighborhood_price, neighborhood_coord], axis = 1)\n",
    "borough_df.drop(['Name'], axis = 1, inplace = True)\n",
    "borough_df.head(7)"
   ]
  },
  {
   "cell_type": "code",
   "execution_count": null,
   "id": "8d2c6a37",
   "metadata": {},
   "outputs": [],
   "source": [
    "# Obtain the coordinates for Arakawa ward to plot all neighborhoods on a world map\n",
    "geolocator = Nominatim(user_agent = 'on_explorer')\n",
    "location = geolocator.geocode('Arakawa, JP')\n",
    "latitude = location.latitude\n",
    "longitude = location.longitude\n",
    "print('Coordinates for Arakawa ward are the following: {} / {}'.format(latitude, longitude))"
   ]
  },
  {
   "cell_type": "code",
   "execution_count": null,
   "id": "84db482f",
   "metadata": {},
   "outputs": [],
   "source": [
    "map_arakawa = folium.Map(location = [latitude, longitude], zoom_start = 14)\n",
    "\n",
    "for lat, lng, label in zip(borough_df['Latitude'], borough_df['Longitude'], borough_df['Names']):\n",
    "    label = folium.Popup(label, parse_html = True)\n",
    "    folium.CircleMarker(\n",
    "    [lat, lng],\n",
    "    radius = 8,\n",
    "    popup = label,\n",
    "    color = 'blue',\n",
    "    fill = True,\n",
    "    fill_color = '#3186cc',\n",
    "    fill_opacity = 0.7,\n",
    "    parse_html = False).add_to(map_arakawa)\n",
    "    \n",
    "map_arakawa"
   ]
  },
  {
   "cell_type": "markdown",
   "id": "6f6b8ecc",
   "metadata": {},
   "source": [
    "### Step 4 - Extract venue information for each neighborhood:"
   ]
  },
  {
   "cell_type": "markdown",
   "id": "eab3a928",
   "metadata": {},
   "source": [
    "**Initiate Foursquare to obtain nearby venues**"
   ]
  },
  {
   "cell_type": "code",
   "execution_count": null,
   "id": "8e5dc8d9",
   "metadata": {},
   "outputs": [],
   "source": [
    "CLIENT_ID = 'NKIICUFP3F2YR2CNU31ATDOOGFMZE2MDEHC3ZORF3C0EUSUI'\n",
    "CLIENT_SECRET = 'WMNZ2GATYAXECUDL4YZX0AEIMUBY4EHYNMYKALOU0FY3QAZR'\n",
    "VERSION = '20200615'\n",
    "LIMIT = 200"
   ]
  },
  {
   "cell_type": "code",
   "execution_count": null,
   "id": "f5f9a36c",
   "metadata": {},
   "outputs": [],
   "source": [
    "def getNearbyVenues(names, latitudes, longitudes, radius = 500):\n",
    "    \"\"\"\n",
    "    names - neighborhood names\n",
    "    latitudes/longitudes - for each respective neighborhood\n",
    "    radius - search radius using Foursquare API\n",
    "    \"\"\"\n",
    "    \n",
    "    venues_list = []\n",
    "    for name, lat, lng in zip(names, latitudes, longitudes):\n",
    "        print(name)\n",
    "        \n",
    "        # create the API request URL\n",
    "        url = 'https://api.foursquare.com/v2/venues/explore?&client_id={}&client_secret={}&v={}&ll={},{}&radius={}&limit={}'.format(\n",
    "        CLIENT_ID,\n",
    "        CLIENT_SECRET,\n",
    "        VERSION,\n",
    "        lat,\n",
    "        lng,\n",
    "        radius,\n",
    "        LIMIT)\n",
    "        \n",
    "        # create the GET request\n",
    "        results = requests.get(url).json()['response']['groups'][0]['items']\n",
    "        \n",
    "        # return only relevant information for each nearby venue\n",
    "        venues_list.append([(\n",
    "            name,\n",
    "            lat,\n",
    "            lng,\n",
    "            v['venue']['name'],\n",
    "            v['venue']['location']['lat'],\n",
    "            v['venue']['location']['lng'],\n",
    "            v['venue']['categories'][0]['name']) for v in results])\n",
    "        \n",
    "    nearby_venues = pd.DataFrame([item for venue_list in venues_list for item in venue_list])\n",
    "    nearby_venues.columns = ['Neighborhood',\n",
    "                            'Neighborhood Latitude',\n",
    "                            'Neighborhood Longitude',\n",
    "                            'Venue',\n",
    "                            'Venue Latitude',\n",
    "                            'Venue Longitude',\n",
    "                            'Venue Category']\n",
    "    \n",
    "    return nearby_venues"
   ]
  },
  {
   "cell_type": "code",
   "execution_count": null,
   "id": "496b643c",
   "metadata": {},
   "outputs": [],
   "source": [
    "# Obtain all venues (limited to a maximum of 200) for each neighborhood within Arakawa ward\n",
    "arakawa_venues = getNearbyVenues(names = borough_df['Names'], \n",
    "                                  latitudes = borough_df['Latitude'],\n",
    "                                  longitudes = borough_df['Longitude'])"
   ]
  },
  {
   "cell_type": "code",
   "execution_count": null,
   "id": "1bdb3f92",
   "metadata": {},
   "outputs": [],
   "source": [
    "print(arakawa_venues.shape)\n",
    "print('There are {} uniques categories'.format(len(arakawa_venues['Venue Category'].unique())))\n",
    "arakawa_venues.head(7)"
   ]
  },
  {
   "cell_type": "code",
   "execution_count": null,
   "id": "26735fd3",
   "metadata": {},
   "outputs": [],
   "source": [
    "# Expand more on the unique venue categories found within Arakawa\n",
    "arakawa_venues['Venue Category'].unique()"
   ]
  },
  {
   "cell_type": "code",
   "execution_count": null,
   "id": "402120c4",
   "metadata": {},
   "outputs": [],
   "source": [
    "# One-hot encode the different types of venues for each neighborhood (to help with clustering later on...)\n",
    "arakawa_onehot = pd.get_dummies(arakawa_venues[['Venue Category']], prefix = \"\", prefix_sep = \"\")\n",
    "arakawa_onehot['Neighborhood'] = arakawa_venues['Neighborhood']\n",
    "\n",
    "fixed_columns = [arakawa_onehot.columns[-1]] + list(arakawa_onehot.columns[:-1])\n",
    "arakawa_onehot = arakawa_onehot[fixed_columns]\n",
    "arakawa_onehot.head(7)"
   ]
  },
  {
   "cell_type": "markdown",
   "id": "f4dcf538",
   "metadata": {},
   "source": [
    "##### Understand the top 5 venues that exist for each neighborhood"
   ]
  },
  {
   "cell_type": "code",
   "execution_count": null,
   "id": "f31e1238",
   "metadata": {},
   "outputs": [],
   "source": [
    "arakawa_grouped = arakawa_onehot.groupby('Neighborhood').mean().reset_index()\n",
    "arakawa_grouped"
   ]
  },
  {
   "cell_type": "code",
   "execution_count": null,
   "id": "6f38543f",
   "metadata": {},
   "outputs": [],
   "source": [
    "# Check the ratio for the top 5 venues for each neighborhood\n",
    "num_top_venues = 5\n",
    "\n",
    "for hood in arakawa_grouped['Neighborhood']:\n",
    "    print(\"----\"+hood+\"----\")\n",
    "    temp = arakawa_grouped[arakawa_grouped['Neighborhood'] == hood].T.reset_index()\n",
    "    temp.columns = ['venue','freq']\n",
    "    temp = temp.iloc[1:]\n",
    "    temp['freq'] = temp['freq'].astype(float)\n",
    "    temp = temp.round({'freq': 2})\n",
    "    print(temp.sort_values('freq', ascending = False).reset_index(drop = True).head(num_top_venues))\n",
    "    print('\\n')"
   ]
  },
  {
   "cell_type": "markdown",
   "id": "37729c1c",
   "metadata": {},
   "source": [
    "###### Examine the 15 most common venues for each neighborhood"
   ]
  },
  {
   "cell_type": "code",
   "execution_count": null,
   "id": "c6e97c5a",
   "metadata": {},
   "outputs": [],
   "source": [
    "def return_most_common_venues(row, num_top_venues):\n",
    "    row_categories = row.iloc[1:]\n",
    "    row_categories_sorted = row_categories.sort_values(ascending = False)\n",
    "    \n",
    "    return row_categories_sorted.index.values[0:num_top_venues]"
   ]
  },
  {
   "cell_type": "code",
   "execution_count": null,
   "id": "d36ea999",
   "metadata": {},
   "outputs": [],
   "source": [
    "num_top_venues = 10\n",
    "\n",
    "indicators = ['st', 'nd', 'rd']\n",
    "\n",
    "# Create new columns based on the number of top venues\n",
    "columns = ['Neighborhood']\n",
    "for ind in np.arange(num_top_venues):\n",
    "    try:\n",
    "        columns.append('{}{} Most Common Venue'.format(ind + 1, indicators[ind]))\n",
    "    except:\n",
    "        columns.append('{}th Most Common Venue'.format(ind + 1))\n",
    "\n",
    "neighborhoods_venues_sorted = pd.DataFrame(columns = columns)\n",
    "neighborhoods_venues_sorted['Neighborhood'] = arakawa_grouped['Neighborhood']\n",
    "\n",
    "for ind in np.arange(arakawa_grouped.shape[0]):\n",
    "    neighborhoods_venues_sorted.iloc[ind, 1:] = return_most_common_venues(arakawa_grouped.iloc[ind, :], num_top_venues)\n",
    "\n",
    "neighborhoods_venues_sorted.head(7)"
   ]
  },
  {
   "cell_type": "markdown",
   "id": "614997ae",
   "metadata": {},
   "source": [
    "### Step 5 - Cluster neighborhoods based on their venue information:"
   ]
  },
  {
   "cell_type": "markdown",
   "id": "6ee96cd7",
   "metadata": {},
   "source": [
    "##### Perform the elbow method to choose the right cluster number"
   ]
  },
  {
   "cell_type": "code",
   "execution_count": null,
   "id": "5a9b3d5a",
   "metadata": {},
   "outputs": [],
   "source": [
    "sum_of_squared_distances = []\n",
    "distortions = []\n",
    "kclusters = range(1,8)\n",
    "\n",
    "arakawa_grouped_clustering = arakawa_grouped.drop('Neighborhood', 1)\n",
    "\n",
    "for k in kclusters:\n",
    "    kmeans = KMeans(n_clusters = k, random_state = 0).fit(arakawa_grouped_clustering)\n",
    "    sum_of_squared_distances.append(kmeans.inertia_)\n",
    "    \n",
    "plt.plot(kclusters, sum_of_squared_distances, 'bx-')\n",
    "plt.xlabel('Cluster number')\n",
    "plt.ylabel('Sum of squared distances')\n",
    "plt.title('Elbow Method for discovering optimal cluster n')"
   ]
  },
  {
   "cell_type": "markdown",
   "id": "5c8aedef",
   "metadata": {},
   "source": [
    "The elbow method was a bit inconclusive but it seems like clustering with k = 3 could be the ideal one."
   ]
  },
  {
   "cell_type": "code",
   "execution_count": null,
   "id": "f81caf7e",
   "metadata": {},
   "outputs": [],
   "source": [
    "n_cluster = 3\n",
    "kmeans = KMeans(n_clusters = n_cluster, random_state = 0).fit(arakawa_grouped_clustering)\n",
    "\n",
    "neighborhoods_venues_sorted.insert(0, 'Cluster Labels', kmeans.labels_)\n",
    "arakawa_merged = borough_df\n",
    "\n",
    "arakawa_merged = arakawa_merged.join(neighborhoods_venues_sorted.set_index('Neighborhood'), on = 'Names')\n",
    "arakawa_merged.head(7)"
   ]
  },
  {
   "cell_type": "markdown",
   "id": "61b788a5",
   "metadata": {},
   "source": [
    "##### Attempt to overlap price values within the Choropleth map (not working as intended )"
   ]
  },
  {
   "cell_type": "code",
   "execution_count": null,
   "id": "e86e80b3",
   "metadata": {},
   "outputs": [],
   "source": [
    "# Make sure that both information (json+dataframe) matches for the choropleth map\n",
    "\n",
    "import json \n",
    "idjson = json.load(open('arakawa_map.json')) \n",
    "\n",
    "for index, x in enumerate(idjson['features']): \n",
    "    if type(x['properties']['name']) == type(borough_df['Names'][index]):\n",
    "        print('Name match')\n",
    "    print (x['properties']['name'])"
   ]
  },
  {
   "cell_type": "code",
   "execution_count": null,
   "id": "4fdd8ea7",
   "metadata": {},
   "outputs": [],
   "source": [
    "neighborhood_geo = 'arakawa_map.geojson'\n",
    "\n",
    "arakawa_map_clusters = folium.Map(location = [latitude, longitude], zoom_start = 14)\n",
    "\n",
    "folium.Choropleth(\n",
    "    geo_data = neighborhood_geo,\n",
    "    df = borough_df,\n",
    "    columns = ['Names','Average Price(JPY/sq.m)'],\n",
    "    key_on = 'features.properties.name',\n",
    "    fill_color = 'Y1Gn',\n",
    "    fill_opacity = 0.7,\n",
    "    line_opacity = 0.2,\n",
    "    legend_name = 'Average price per land',\n",
    "    highlight = True\n",
    ").add_to(arakawa_map_clusters)\n",
    "\n",
    "# set color scheme for the clusters\n",
    "x = np.arange(n_cluster)\n",
    "ys = [i + x + (i*x)**2 for i in range(n_cluster)]\n",
    "colors_array = cm.rainbow(np.linspace(0, 1, len(ys)))\n",
    "rainbow = [colors.rgb2hex(i) for i in colors_array]\n",
    "\n",
    "markers_colors = []\n",
    "for lat, lon, poi, cluster in zip(arakawa_merged['Latitude'], arakawa_merged['Longitude'], arakawa_merged['Names'], arakawa_merged['Cluster Labels']):\n",
    "    label = folium.Popup(str(poi) + ' Cluster ' + str(cluster), parse_html = True)\n",
    "    folium.CircleMarker(\n",
    "        [lat, lon],\n",
    "        radius = 5,\n",
    "        popup = label,\n",
    "        color = rainbow[int(cluster)-1],\n",
    "        fill = True,\n",
    "        fill_color = rainbow[int(cluster)-1],\n",
    "        fill_opacity = 0.7).add_to(arakawa_map_clusters)\n",
    "     \n",
    "folium.LayerControl().add_to(arakawa_map_clusters)\n",
    "        \n",
    "arakawa_map_clusters"
   ]
  },
  {
   "cell_type": "markdown",
   "id": "0d09a9ba",
   "metadata": {},
   "source": [
    "### Step 6 - Choose the neighborhood with the most potential:\n",
    "    1. Obtain information regarding competitors\n",
    "    2. Use the price per land value as a filter"
   ]
  },
  {
   "cell_type": "code",
   "execution_count": null,
   "id": "61dc7f33",
   "metadata": {},
   "outputs": [],
   "source": [
    "# Based on the unique category venues, the following could be direct competitors: Bakery, Pastry Shop, Sandwich Place\n",
    "n_bak = arakawa_venues.groupby('Neighborhood')['Venue Category'].apply(lambda x: x[x.str.contains('Bakery')].count())\n",
    "n_pas = arakawa_venues.groupby('Neighborhood')['Venue Category'].apply(lambda x: x[x.str.contains('Pastry Shop')].count())\n",
    "n_san = arakawa_venues.groupby('Neighborhood')['Venue Category'].apply(lambda x: x[x.str.contains('Sandwich Place')].count())\n",
    "\n",
    "arakawa_merged['Number of competitors'] = list(n_bak+n_pas+n_san)\n",
    "arakawa_merged.head(7)"
   ]
  },
  {
   "cell_type": "code",
   "execution_count": null,
   "id": "4cbcf012",
   "metadata": {},
   "outputs": [],
   "source": [
    "# Visualize both the number of competitors as well as price per land for each neighborhood\n",
    "fig = make_subplots(rows = 1, cols = 2, subplot_titles = ('Similar businesses estimation', 'Average price per land'))\n",
    "\n",
    "fig.add_trace(go.Bar(x = arakawa_merged['Names'], y = arakawa_merged['Number of competitors']), row = 1, col = 1)\n",
    "fig.add_trace(go.Bar(x = arakawa_merged['Names'], y = arakawa_merged['Average Price(JPY/sq.m)']), row = 1, col = 2)\n",
    "\n",
    "fig.update_yaxes(title_text = 'Number of direct competitors', row = 1, col = 1)\n",
    "fig.update_yaxes(title_text = 'Price value JPY/sqm', row = 1, col = 2)\n",
    "\n",
    "fig.update_layout(height = 400, \n",
    "                  width = 1000,\n",
    "                  showlegend = False)\n",
    "fig.show()"
   ]
  },
  {
   "cell_type": "markdown",
   "id": "752e85b5",
   "metadata": {},
   "source": [
    "* Assumptions:\n",
    "    1. Higashinippori is excluded due to the high land price\n",
    "    2. Higashiogu, Nishinippori and Nishiogu also get excluded because of similar businesses being already established\n",
    "    \n",
    "The potential neighborhoods to establish a new bakery would be either Arakawa, Machiya or Minaminseju since they would have a very similar land cost value plus no established direct competition yet."
   ]
  },
  {
   "cell_type": "markdown",
   "id": "7f0e54ec",
   "metadata": {},
   "source": [
    "## Discussion"
   ]
  },
  {
   "cell_type": "markdown",
   "id": "f54d1650",
   "metadata": {},
   "source": [
    "As introduced before, Tokyo is a city with enormous potential for new businesses, however, it is a high risk, high reward kind of situation. When starting a new business in such a competitive established market, location and access to target customers are key for the longevity of the business.\n",
    "\n",
    "Through this analysis, I have used public data to narrow the number of options down to the neighborhood area. I am aware that a few assumptions have been made about the chosen \"bakery\" study case that would need to be re-adapted for other businesses that could have different priorities.\n",
    "\n",
    "Further research could involve data regarding the average age population within each neighborhood as well as commuting numbers in/out of each neighborhood. The main reason is because some services could want to establish themselves where there is a high number of people converging to during the working week. Restaurants, as an example, could wand to focus on workers that go around to find a meal during lunch time, areas with the highest number of companies/number of employees ratio could be attractive in this situation. As for the former type of information, some services have a target age group which was not accounted for in this analysis."
   ]
  },
  {
   "cell_type": "markdown",
   "id": "d6cec05b",
   "metadata": {},
   "source": [
    "## Conclusion"
   ]
  },
  {
   "cell_type": "markdown",
   "id": "2ca54bce",
   "metadata": {},
   "source": [
    "In such competitive ecosystems, it is difficult for a newcomer to know where to start a new business. It can also be challenging for investors to gauge how well a new business could perform in the short-mid term due to a multitude of variables. This analysis is not by far exhaustive, but hopefully can shed some insight on potential factors that could help in the decision or evaluation making process."
   ]
  },
  {
   "cell_type": "markdown",
   "id": "8dc55bf9",
   "metadata": {},
   "source": [
    "## References"
   ]
  },
  {
   "cell_type": "markdown",
   "id": "fc81f313",
   "metadata": {},
   "source": [
    "[1] Tokyo Information -> https://en.wikipedia.org/wiki/Tokyo \\\n",
    "[2] Tokyo density numbers -> https://www.metro.tokyo.lg.jp/tosei/hodohappyo/press/2021/01/28/01.html \\\n",
    "[3] Tokyo Ward list -> https://en.wikipedia.org/wiki/Special_wards_of_Tokyo#List_of_special_wards \\\n",
    "[4] Market value for land in Tokyo -> https://utinokati.com/en/details/land-market-value/area/Tokyo/ \\\n",
    "[5] Japan Postcode finder -> https://japan-postcode.810popo.net/tokyoto/ \\\n",
    "[6] Geocoder -> https://geocoder.readthedocs.io/ \\\n",
    "[7] Foursquare -> https://foursquare.com/ \\\n",
    "[8] Google Maps -> https://www.google.com/maps (To obtain coordinates for each neighborhood as an alternative) \\\n",
    "[9] Geojson file creator -> https://geojson.io/#map=20/35.75063/139.74093 (To create my own Choropleth) \n",
    "\n",
    "[1-5] - Accessed on the 13/06/2021."
   ]
  }
 ],
 "metadata": {
  "kernelspec": {
   "display_name": "Python 3",
   "language": "python",
   "name": "python3"
  },
  "language_info": {
   "codemirror_mode": {
    "name": "ipython",
    "version": 3
   },
   "file_extension": ".py",
   "mimetype": "text/x-python",
   "name": "python",
   "nbconvert_exporter": "python",
   "pygments_lexer": "ipython3",
   "version": "3.8.8"
  }
 },
 "nbformat": 4,
 "nbformat_minor": 5
}
